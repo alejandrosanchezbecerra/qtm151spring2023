{
 "cells": [
  {
   "attachments": {},
   "cell_type": "markdown",
   "metadata": {},
   "source": [
    "# <span style=\"color:darkblue\"> Lecture 2: Variables and Lists </span>"
   ]
  },
  {
   "attachments": {},
   "cell_type": "markdown",
   "metadata": {},
   "source": [
    "<font size=\"5\"> \n",
    "\n",
    "In the previous class we:\n",
    "- Reviewed the basic structure of Jupyter notebooks\n",
    "- Showed how to install and import libraries"
   ]
  },
  {
   "attachments": {},
   "cell_type": "markdown",
   "metadata": {},
   "source": [
    "<font size=\"5\"> \n",
    "\n",
    "In this class we will:\n",
    "\n",
    "- Introduce variables and lists\n",
    "- Compute a histogram plot\n",
    "- (Optional) Common pitfalls and understanding errors"
   ]
  },
  {
   "attachments": {},
   "cell_type": "markdown",
   "metadata": {},
   "source": [
    "# <span style=\"color:darkblue\"> Import Libraries </span>"
   ]
  },
  {
   "cell_type": "code",
   "execution_count": 1,
   "metadata": {},
   "outputs": [],
   "source": [
    "# The matplotlib library is used to create graphs\n",
    "\n",
    "import matplotlib.pyplot as plt"
   ]
  },
  {
   "attachments": {},
   "cell_type": "markdown",
   "metadata": {},
   "source": [
    "## "
   ]
  },
  {
   "attachments": {},
   "cell_type": "markdown",
   "metadata": {},
   "source": [
    "# <span style=\"color:darkblue\"> Variables and Data Types </span>"
   ]
  },
  {
   "attachments": {},
   "cell_type": "markdown",
   "metadata": {},
   "source": [
    "<font size=\"5\"> \n",
    "\n",
    "Identify the type of object\n",
    "- Integers, Floats (numbers with decimals) or strings (text)\n",
    "- Type is a function, with an argument in parenthesis (...)"
   ]
  },
  {
   "cell_type": "code",
   "execution_count": 2,
   "metadata": {},
   "outputs": [
    {
     "data": {
      "text/plain": [
       "int"
      ]
     },
     "execution_count": 2,
     "metadata": {},
     "output_type": "execute_result"
    }
   ],
   "source": [
    "type(3)"
   ]
  },
  {
   "cell_type": "code",
   "execution_count": 3,
   "metadata": {},
   "outputs": [
    {
     "data": {
      "text/plain": [
       "float"
      ]
     },
     "execution_count": 3,
     "metadata": {},
     "output_type": "execute_result"
    }
   ],
   "source": [
    "type(3.5)"
   ]
  },
  {
   "cell_type": "code",
   "execution_count": 4,
   "metadata": {},
   "outputs": [
    {
     "data": {
      "text/plain": [
       "str"
      ]
     },
     "execution_count": 4,
     "metadata": {},
     "output_type": "execute_result"
    }
   ],
   "source": [
    "type('hello')"
   ]
  },
  {
   "cell_type": "code",
   "execution_count": 5,
   "metadata": {},
   "outputs": [
    {
     "data": {
      "text/plain": [
       "str"
      ]
     },
     "execution_count": 5,
     "metadata": {},
     "output_type": "execute_result"
    }
   ],
   "source": [
    "# You can define strings with either single or double quotations.\n",
    "type(\"hello\")"
   ]
  },
  {
   "attachments": {},
   "cell_type": "markdown",
   "metadata": {},
   "source": [
    "<font size=\"5\"> \n",
    "\n",
    "Store Variables in memory\n",
    "\n",
    "- Assign variables with \"=\"\n",
    "- Write meaningful names, without spaces\n",
    "- Can use underscore \"_\"\n",
    "- Click \"Variables\" in the top panel of Jupyter Notebooks"
   ]
  },
  {
   "cell_type": "code",
   "execution_count": 6,
   "metadata": {},
   "outputs": [],
   "source": [
    "# Try choosing your names on the left of \"=\"\n",
    "\n",
    "number3        = 3\n",
    "number3andhalf = 3.5\n",
    "message_hello  = \"hello\""
   ]
  },
  {
   "cell_type": "code",
   "execution_count": 7,
   "metadata": {},
   "outputs": [
    {
     "data": {
      "text/plain": [
       "3"
      ]
     },
     "execution_count": 7,
     "metadata": {},
     "output_type": "execute_result"
    }
   ],
   "source": [
    "# You can show the output by writing the name of the variable\n",
    "# Try including different variables\n",
    "\n",
    "number3"
   ]
  },
  {
   "cell_type": "code",
   "execution_count": 39,
   "metadata": {},
   "outputs": [
    {
     "name": "stdout",
     "output_type": "stream",
     "text": [
      "3\n",
      "3.5\n"
     ]
    }
   ],
   "source": [
    "# Jupyter only shows the output for the last object\n",
    "# You can show multiple outputs by using the function \"print\"\n",
    "\n",
    "print(number3)\n",
    "print(number3andhalf)"
   ]
  },
  {
   "attachments": {},
   "cell_type": "markdown",
   "metadata": {},
   "source": [
    "<font size=\"5\"> \n",
    "\n",
    "Basic operations on integers and floats\n",
    "\n",
    "- Addition (+), Multiplication (*), Subtraction (-), Division (/), Exponentiation (**)\n",
    "- If you try this on a string it will not work"
   ]
  },
  {
   "cell_type": "code",
   "execution_count": 8,
   "metadata": {},
   "outputs": [
    {
     "name": "stdout",
     "output_type": "stream",
     "text": [
      "6\n",
      "5\n",
      "1\n",
      "1.5\n",
      "9\n"
     ]
    }
   ],
   "source": [
    "# Basic operations on numbers\n",
    "print(3*2)\n",
    "print(3+2)\n",
    "print(3-2)\n",
    "print(3/2)\n",
    "print(3**2)"
   ]
  },
  {
   "attachments": {},
   "cell_type": "markdown",
   "metadata": {},
   "source": [
    "<font size=\"5\"> \n",
    "\n",
    "Use parenthesis for composite operations"
   ]
  },
  {
   "cell_type": "code",
   "execution_count": 9,
   "metadata": {},
   "outputs": [
    {
     "data": {
      "text/plain": [
       "1.4"
      ]
     },
     "execution_count": 9,
     "metadata": {},
     "output_type": "execute_result"
    }
   ],
   "source": [
    "(3 + 4) / 5"
   ]
  },
  {
   "cell_type": "code",
   "execution_count": 13,
   "metadata": {},
   "outputs": [
    {
     "data": {
      "text/plain": [
       "1.4"
      ]
     },
     "execution_count": 13,
     "metadata": {},
     "output_type": "execute_result"
    }
   ],
   "source": [
    "# Try doing the same with the variable \"number3\" or \"number3andhalf instead.\n",
    "\n",
    "number3 * 2\n",
    "number3andhalf ** 2\n",
    "(number3 + 4) / 5\n"
   ]
  },
  {
   "attachments": {},
   "cell_type": "markdown",
   "metadata": {},
   "source": [
    "<font size=\"5\"> \n",
    "\n",
    "Concatenate \"add\" two strings"
   ]
  },
  {
   "cell_type": "code",
   "execution_count": 14,
   "metadata": {},
   "outputs": [
    {
     "data": {
      "text/plain": [
       "'My name is David'"
      ]
     },
     "execution_count": 14,
     "metadata": {},
     "output_type": "execute_result"
    }
   ],
   "source": [
    "# Use the + symbol to concatenate two or more strings\n",
    "# This is very useful to contract strings where one part stays the same,\n",
    "# and the other is a user input.\n",
    "\n",
    "name = \"David\"\n",
    "\n",
    "\"My name is \"  + name"
   ]
  },
  {
   "attachments": {},
   "cell_type": "markdown",
   "metadata": {},
   "source": [
    "# <span style=\"color:darkblue\"> Lists </span>"
   ]
  },
  {
   "attachments": {},
   "cell_type": "markdown",
   "metadata": {},
   "source": [
    "<font size=\"5\"> \n",
    "\n",
    "Store Lists\n",
    "\n",
    "- Lists are always denote by square brackets [...]\n",
    "- Elements separated by commas"
   ]
  },
  {
   "cell_type": "code",
   "execution_count": 15,
   "metadata": {},
   "outputs": [],
   "source": [
    "# List of numbers\n",
    "# Example: Suppose you ask 5 people about their favorite color. The results:\n",
    "list_numbers     = [1,2,3,4,5]\n",
    "list_numbers_sqr = [1,4,9,16,25]"
   ]
  },
  {
   "cell_type": "code",
   "execution_count": 16,
   "metadata": {},
   "outputs": [],
   "source": [
    "# List with strings\n",
    "# Example: Suppose you ask 5 people about their favorite color. The results:\n",
    "list_colors = [\"red\",\"red\",\"yellow\", \"green\",\"red\"]"
   ]
  },
  {
   "cell_type": "code",
   "execution_count": 17,
   "metadata": {},
   "outputs": [],
   "source": [
    "# List with mixed types\n",
    "list_mixedtype = [\"red\",1,\"yellow\",4,5]"
   ]
  },
  {
   "attachments": {},
   "cell_type": "markdown",
   "metadata": {},
   "source": [
    "Extract individual elements from a list\n",
    "- Use square brackets, e.g. list_colors[2]\n",
    "- Python lists always start of zero\n",
    "- This is analogous to apartment buildings that have \"Ground\" then Floors 1, 2, 3"
   ]
  },
  {
   "cell_type": "code",
   "execution_count": 18,
   "metadata": {},
   "outputs": [
    {
     "name": "stdout",
     "output_type": "stream",
     "text": [
      "red\n",
      "red\n",
      "yellow\n",
      "green\n",
      "red\n"
     ]
    }
   ],
   "source": [
    "# Use print to show the output of multiple commands\n",
    "print(list_colors[0])\n",
    "print(list_colors[1])\n",
    "print(list_colors[2])\n",
    "print(list_colors[3])\n",
    "print(list_colors[4])"
   ]
  },
  {
   "attachments": {},
   "cell_type": "markdown",
   "metadata": {},
   "source": [
    "# <span style=\"color:darkblue\"> Visualizing Lists </span>"
   ]
  },
  {
   "attachments": {},
   "cell_type": "markdown",
   "metadata": {},
   "source": [
    "<font size=\"5\"> \n",
    "\n",
    "A histogram for categorical data"
   ]
  },
  {
   "cell_type": "code",
   "execution_count": 19,
   "metadata": {},
   "outputs": [
    {
     "data": {
      "text/plain": [
       "(array([3., 0., 0., 0., 0., 1., 0., 0., 0., 1.]),\n",
       " array([0. , 0.2, 0.4, 0.6, 0.8, 1. , 1.2, 1.4, 1.6, 1.8, 2. ]),\n",
       " <BarContainer object of 10 artists>)"
      ]
     },
     "execution_count": 19,
     "metadata": {},
     "output_type": "execute_result"
    },
    {
     "data": {
      "image/png": "[encoded data removed]",
      "text/plain": [
       "<Figure size 640x480 with 1 Axes>"
      ]
     },
     "metadata": {},
     "output_type": "display_data"
    }
   ],
   "source": [
    "# This creates a histogram with the \"list_colors\"\n",
    "plt.hist(x= list_colors)"
   ]
  },
  {
   "cell_type": "code",
   "execution_count": 22,
   "metadata": {},
   "outputs": [
    {
     "data": {
      "text/plain": [
       "(array([3., 0., 0., 2., 0., 0., 2., 0., 0., 1.]),\n",
       " array([0. , 0.3, 0.6, 0.9, 1.2, 1.5, 1.8, 2.1, 2.4, 2.7, 3. ]),\n",
       " <BarContainer object of 10 artists>)"
      ]
     },
     "execution_count": 22,
     "metadata": {},
     "output_type": "execute_result"
    },
    {
     "data": {
      "image/png": "[encoded data removed]",
      "text/plain": [
       "<Figure size 640x480 with 1 Axes>"
      ]
     },
     "metadata": {},
     "output_type": "display_data"
    }
   ],
   "source": [
    "# Creat a list with repeated string values\n",
    "# Compute your own histogram\n",
    "\n",
    "list_animals = [\"cat\", \"dog\", \"cat\", \"rabbit\", \"rabbit\", \"cat\", \"dog\", \"hamster\"]\n",
    "plt.hist(x=list_animals)"
   ]
  },
  {
   "attachments": {},
   "cell_type": "markdown",
   "metadata": {},
   "source": [
    "<font size=\"5\"> \n",
    "\n",
    "A histogram for continuous data"
   ]
  },
  {
   "cell_type": "code",
   "execution_count": 20,
   "metadata": {},
   "outputs": [
    {
     "data": {
      "text/plain": [
       "<matplotlib.collections.PathCollection at 0x115732250>"
      ]
     },
     "execution_count": 20,
     "metadata": {},
     "output_type": "execute_result"
    },
    {
     "data": {
      "image/png": "[encoded data removed]",
      "text/plain": [
       "<Figure size 640x480 with 1 Axes>"
      ]
     },
     "metadata": {},
     "output_type": "display_data"
    }
   ],
   "source": [
    "plt.scatter(x = list_numbers, y = list_numbers_sqr)\n"
   ]
  },
  {
   "cell_type": "code",
   "execution_count": 23,
   "metadata": {},
   "outputs": [
    {
     "data": {
      "text/plain": [
       "<matplotlib.collections.PathCollection at 0x11588b150>"
      ]
     },
     "execution_count": 23,
     "metadata": {},
     "output_type": "execute_result"
    },
    {
     "data": {
      "image/png": "[encoded data removed]",
      "text/plain": [
       "<Figure size 640x480 with 1 Axes>"
      ]
     },
     "metadata": {},
     "output_type": "display_data"
    }
   ],
   "source": [
    "# Create a list with numbers, then create your own scatter plot\n",
    "\n",
    "list_numbers1 = [2, 4, 6, 8, 10]\n",
    "list_numbers_sqr1 = [4, 16, 36, 64, 100]\n",
    "\n",
    "plt.scatter(x=list_numbers1, y=list_numbers_sqr1)\n"
   ]
  },
  {
   "attachments": {},
   "cell_type": "markdown",
   "metadata": {},
   "source": [
    "# <span style=\"color:darkblue\"> Additional Resources </span>\n",
    "\n",
    "<font size=\"5\"> \n",
    "\n",
    "Check out additional examples at:\n",
    "\n",
    "- https://allendowney.github.io/ElementsOfDataScience/01_variables.html\n",
    "- https://allendowney.github.io/ElementsOfDataScience/03_arrays.html\n",
    "\n"
   ]
  },
  {
   "attachments": {},
   "cell_type": "markdown",
   "metadata": {},
   "source": [
    "# <span style=\"color:darkblue\"> (Optional) Common Pitfalls </span>\n",
    "\n",
    "<font size=\"5\"> \n",
    "\n",
    "It's very common to enter a command incorrectly\n",
    "- There will be an arrow pointing to the problematic line\n",
    "- Focus on the message following \"NameError\""
   ]
  },
  {
   "attachments": {},
   "cell_type": "markdown",
   "metadata": {},
   "source": [
    "<font size=\"5\"> \n",
    "\n",
    "Pro Tip:\n",
    "- Type in google the message for \"NameError\" plus the word Python\n",
    "- Somebody may have a solution/explanation"
   ]
  },
  {
   "attachments": {},
   "cell_type": "markdown",
   "metadata": {},
   "source": [
    "<font size=\"5\"> \n",
    "\n",
    "Example 1: Not including quotations"
   ]
  },
  {
   "cell_type": "code",
   "execution_count": 25,
   "metadata": {},
   "outputs": [
    {
     "ename": "NameError",
     "evalue": "name 'hello' is not defined",
     "output_type": "error",
     "traceback": [
      "\u001b[0;31m---------------------------------------------------------------------------\u001b[0m",
      "\u001b[0;31mNameError\u001b[0m                                 Traceback (most recent call last)",
      "Cell \u001b[0;32mIn[25], line 3\u001b[0m\n\u001b[1;32m      1\u001b[0m \u001b[39m# When you don't include quotation marks,\u001b[39;00m\n\u001b[1;32m      2\u001b[0m \u001b[39m# Python will try to search for a variable called Hello\u001b[39;00m\n\u001b[0;32m----> 3\u001b[0m \u001b[39mtype\u001b[39m(hello)\n\u001b[1;32m      4\u001b[0m \u001b[39mtype\u001b[39m(\u001b[39m\"\u001b[39m\u001b[39mhello\u001b[39m\u001b[39m\"\u001b[39m)\n",
      "\u001b[0;31mNameError\u001b[0m: name 'hello' is not defined"
     ]
    }
   ],
   "source": [
    "# When you don't include quotation marks,\n",
    "# Python will try to search for a variable called Hello\n",
    "type(hello)\n",
    "type(\"hello\")"
   ]
  },
  {
   "cell_type": "code",
   "execution_count": 26,
   "metadata": {},
   "outputs": [
    {
     "data": {
      "text/plain": [
       "str"
      ]
     },
     "execution_count": 26,
     "metadata": {},
     "output_type": "execute_result"
    }
   ],
   "source": [
    "# This commands works if we already defined a variable, e.g.\n",
    "type(message_hello)"
   ]
  },
  {
   "attachments": {},
   "cell_type": "markdown",
   "metadata": {},
   "source": [
    "<font size=\"5\"> \n",
    "\n",
    "Examples 2: Operations with mixed types don't work"
   ]
  },
  {
   "cell_type": "code",
   "execution_count": 27,
   "metadata": {},
   "outputs": [
    {
     "ename": "TypeError",
     "evalue": "can only concatenate str (not \"int\") to str",
     "output_type": "error",
     "traceback": [
      "\u001b[0;31m---------------------------------------------------------------------------\u001b[0m",
      "\u001b[0;31mTypeError\u001b[0m                                 Traceback (most recent call last)",
      "Cell \u001b[0;32mIn[27], line 2\u001b[0m\n\u001b[1;32m      1\u001b[0m \u001b[39m# If you add a number and a string you get a concatenated string\u001b[39;00m\n\u001b[0;32m----> 2\u001b[0m \u001b[39mprint\u001b[39m(\u001b[39m\"\u001b[39;49m\u001b[39mhola\u001b[39;49m\u001b[39m\"\u001b[39;49m \u001b[39m+\u001b[39;49m number3)\n",
      "\u001b[0;31mTypeError\u001b[0m: can only concatenate str (not \"int\") to str"
     ]
    }
   ],
   "source": [
    "# If you add a number and a string you get a concatenated string\n",
    "print(\"hola\" + number3)"
   ]
  },
  {
   "cell_type": "code",
   "execution_count": 59,
   "metadata": {},
   "outputs": [
    {
     "name": "stdout",
     "output_type": "stream",
     "text": [
      "hola3\n"
     ]
    }
   ],
   "source": [
    "# You can convert an integer to string first\n",
    "print(\"hola\" + str(number3))"
   ]
  },
  {
   "attachments": {},
   "cell_type": "markdown",
   "metadata": {},
   "source": [
    "<font size=\"5\"> \n",
    "\n",
    "Examples 3: Mathematical operations on numeric lists don't work\n",
    "\n",
    "- We need a different object: arrays!\n",
    "- We'll look into this in future classes"
   ]
  },
  {
   "cell_type": "code",
   "execution_count": 28,
   "metadata": {},
   "outputs": [
    {
     "ename": "NameError",
     "evalue": "name 'list_numeric' is not defined",
     "output_type": "error",
     "traceback": [
      "\u001b[0;31m---------------------------------------------------------------------------\u001b[0m",
      "\u001b[0;31mNameError\u001b[0m                                 Traceback (most recent call last)",
      "Cell \u001b[0;32mIn[28], line 2\u001b[0m\n\u001b[1;32m      1\u001b[0m \u001b[39m# You can convert an integer to string first\u001b[39;00m\n\u001b[0;32m----> 2\u001b[0m list_numeric \u001b[39m*\u001b[39m \u001b[39m2\u001b[39m\n",
      "\u001b[0;31mNameError\u001b[0m: name 'list_numeric' is not defined"
     ]
    }
   ],
   "source": [
    "# You can convert an integer to string first\n",
    "list_numeric * 2"
   ]
  }
 ],
 "metadata": {
  "kernelspec": {
   "display_name": "Python 3",
   "language": "python",
   "name": "python3"
  },
  "language_info": {
   "codemirror_mode": {
    "name": "ipython",
    "version": 3
   },
   "file_extension": ".py",
   "mimetype": "text/x-python",
   "name": "python",
   "nbconvert_exporter": "python",
   "pygments_lexer": "ipython3",
   "version": "3.11.1 (v3.11.1:a7a450f84a, Dec  6 2022, 15:24:06) [Clang 13.0.0 (clang-1300.0.29.30)]"
  },
  "orig_nbformat": 4,
  "vscode": {
   "interpreter": {
    "hash": "aee8b7b246df8f9039afb4144a1f6fd8d2ca17a180786b69acc140d282b71a49"
   }
  }
 },
 "nbformat": 4,
 "nbformat_minor": 2
}
