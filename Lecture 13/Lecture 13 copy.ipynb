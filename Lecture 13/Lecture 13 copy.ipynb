{
 "cells": [
  {
   "attachments": {},
   "cell_type": "markdown",
   "metadata": {},
   "source": [
    "# <span style=\"color:darkblue\"> Lecture 13 - Replacing and recoding variables</span>\n",
    "\n",
    "<font size = \"5\">\n",
    "\n",
    "- Starting a new module on manipulating data\n",
    "- We will discuss NaNs and how to clean data\n"
   ]
  },
  {
   "attachments": {},
   "cell_type": "markdown",
   "metadata": {},
   "source": [
    "# <span style=\"color:darkblue\"> I. Import Libraries and Data </span>\n"
   ]
  },
  {
   "attachments": {},
   "cell_type": "markdown",
   "metadata": {},
   "source": [
    "<font size = \"5\">\n",
    "Key libraries"
   ]
  },
  {
   "cell_type": "code",
   "execution_count": 1,
   "metadata": {},
   "outputs": [],
   "source": [
    "import numpy as np\n",
    "import pandas as pd"
   ]
  },
  {
   "attachments": {},
   "cell_type": "markdown",
   "metadata": {},
   "source": [
    "<font size = \"5\">\n",
    "\n",
    "Read dataset on car racing circuits\n",
    "\n",
    "- https://en.wikipedia.org/wiki/Formula_One <br>\n",
    "- [See Data Source](https://www.kaggle.com/datasets/rohanrao/formula-1-world-championship-1950-2020)"
   ]
  },
  {
   "cell_type": "code",
   "execution_count": 2,
   "metadata": {},
   "outputs": [],
   "source": [
    "circuits = pd.read_csv(\"data_raw/circuits.csv\")"
   ]
  },
  {
   "attachments": {},
   "cell_type": "markdown",
   "metadata": {},
   "source": [
    "<font size = \"5\">\n",
    "\n",
    "The dataset \"codebook\" is a table with ...\n",
    "\n",
    "- Key column information\n",
    "- Main things:  Field, Type, and Description\n",
    "\n",
    "<img src=\"figures/codebook_circuits.png\" alt=\"drawing\" width=\"500\"/>\n"
   ]
  },
  {
   "cell_type": "code",
   "execution_count": 3,
   "metadata": {},
   "outputs": [],
   "source": [
    "# The codebook contains basic about the columns\n",
    "# \"Field\" is the name given to the name of the column\n",
    "# \"Type\"  is the variable type (with the number of characters in parenthesis):\n",
    "#         integer (int)\n",
    "#         string (varchar - \"variable character\") \n",
    "#         float (float)\n",
    "# \"Description\" contains a label with the content of the variable"
   ]
  },
  {
   "attachments": {},
   "cell_type": "markdown",
   "metadata": {},
   "source": [
    "<font size = \"5\">\n",
    "\n",
    "Quick Discussion:\n",
    "- What does the \"alt\" column represent?\n",
    "- What does \"varchar(255)\" mean?"
   ]
  },
  {
   "attachments": {},
   "cell_type": "markdown",
   "metadata": {},
   "source": [
    "# <span style=\"color:darkblue\"> II. NaNs </span>\n",
    "\n",
    "<font size = \"5\">\n",
    "\n",
    "- Means \"Not a Number\"\n",
    "- Used to denote missing values"
   ]
  },
  {
   "cell_type": "code",
   "execution_count": 4,
   "metadata": {},
   "outputs": [
    {
     "data": {
      "text/plain": [
       "nan"
      ]
     },
     "execution_count": 4,
     "metadata": {},
     "output_type": "execute_result"
    }
   ],
   "source": [
    "# \"NaNs\" are a special number, available in the \"np\" library\n",
    "\n",
    "np.nan"
   ]
  },
  {
   "attachments": {},
   "cell_type": "markdown",
   "metadata": {},
   "source": [
    "<font size = \"5\">\n",
    "\n",
    "Operations on arrays with NaNs"
   ]
  },
  {
   "cell_type": "code",
   "execution_count": 5,
   "metadata": {},
   "outputs": [
    {
     "name": "stdout",
     "output_type": "stream",
     "text": [
      "[nan  4.  5.]\n",
      "[ nan 0.25 0.2 ]\n",
      "[nan  5.  6.]\n",
      "[nan -3. -4.]\n"
     ]
    }
   ],
   "source": [
    "# Create two array with and without \"NaNs\"\n",
    "# The \"np.array()\" functions converts a list to an array\n",
    "\n",
    "vec_without_nans = np.array(   [1,1,1]   )\n",
    "vec_with_nans = np.array(  [np.nan,4,5] )\n",
    "\n",
    "# When you add the vectors\n",
    "# you will produce an error on any entries with \"NaNs\"\n",
    "print(vec_without_nans * vec_with_nans)\n",
    "print(vec_without_nans / vec_with_nans)\n",
    "print(vec_without_nans + vec_with_nans)\n",
    "print(vec_without_nans - vec_with_nans)\n"
   ]
  },
  {
   "attachments": {},
   "cell_type": "markdown",
   "metadata": {},
   "source": [
    "<font size = \"5\">\n",
    "\n",
    "Summary statistics with NaNs"
   ]
  },
  {
   "cell_type": "code",
   "execution_count": 6,
   "metadata": {},
   "outputs": [
    {
     "name": "stdout",
     "output_type": "stream",
     "text": [
      "nan\n",
      "4.5\n"
     ]
    }
   ],
   "source": [
    "# Some summary statistics will not work if there are \"NaNs\"\n",
    "# The \"np.mean()\" doesn't work if the mean includes \"NaNs\"\n",
    "print(np.mean(vec_with_nans))\n",
    "\n",
    "# Some commands ignore the \"nans\"\n",
    "# The \"np.nanmean()\" computes the mean over the numeric obvservations\n",
    "print(np.nanmean(vec_with_nans))"
   ]
  },
  {
   "attachments": {},
   "cell_type": "markdown",
   "metadata": {},
   "source": [
    "<font size = \"5\">\n",
    "\n",
    "Pandas summary statistics ignore NaNs"
   ]
  },
  {
   "cell_type": "code",
   "execution_count": 7,
   "metadata": {},
   "outputs": [
    {
     "data": {
      "text/plain": [
       "4.5"
      ]
     },
     "execution_count": 7,
     "metadata": {},
     "output_type": "execute_result"
    }
   ],
   "source": [
    "# This command creates an empty dataframe\n",
    "# then creates a new column called \"x\" and computes its mean\n",
    "# Note: If a column contains missing values, then the \"mean\" won't be \n",
    "#       representative of the whole sample\n",
    "\n",
    "dataset = pd.DataFrame([])\n",
    "dataset[\"x\"] = vec_with_nans\n",
    "dataset[\"x\"].mean()"
   ]
  },
  {
   "attachments": {},
   "cell_type": "markdown",
   "metadata": {},
   "source": [
    "# <span style=\"color:darkblue\"> II. Data Cleaning</span>\n",
    "\n",
    "<font size = \"5\">\n",
    "\n",
    "- Data collection isn't perfect!\n",
    "- Need to adjust values with incorrect formatting"
   ]
  },
  {
   "attachments": {},
   "cell_type": "markdown",
   "metadata": {},
   "source": [
    "<font size = \"5\">\n",
    "Get data types"
   ]
  },
  {
   "cell_type": "code",
   "execution_count": 8,
   "metadata": {},
   "outputs": [
    {
     "data": {
      "text/plain": [
       "circuitId       int64\n",
       "circuitRef     object\n",
       "name           object\n",
       "location       object\n",
       "country        object\n",
       "lat           float64\n",
       "lng           float64\n",
       "alt            object\n",
       "url            object\n",
       "dtype: object"
      ]
     },
     "execution_count": 8,
     "metadata": {},
     "output_type": "execute_result"
    }
   ],
   "source": [
    "# Produces a list with the data types of each column\n",
    "# Columns that say \"object\" have either strings or \n",
    "# a mix of string and numeric values\n",
    "\n",
    "circuits.dtypes"
   ]
  },
  {
   "attachments": {},
   "cell_type": "markdown",
   "metadata": {},
   "source": [
    "<font size = \"5\">\n",
    "\n",
    "Check rows with numeric values"
   ]
  },
  {
   "cell_type": "code",
   "execution_count": 9,
   "metadata": {},
   "outputs": [
    {
     "data": {
      "text/plain": [
       "0      True\n",
       "1      True\n",
       "2      True\n",
       "3      True\n",
       "4      True\n",
       "      ...  \n",
       "72     True\n",
       "73     True\n",
       "74     True\n",
       "75    False\n",
       "76    False\n",
       "Name: alt, Length: 77, dtype: bool"
      ]
     },
     "execution_count": 9,
     "metadata": {},
     "output_type": "execute_result"
    }
   ],
   "source": [
    "# The \".str.isnumeric()\" checks whether each row is numeric or now.\n",
    "# Using the \".\" twice is an example of \"piping\"\n",
    "# which refers to chaining two commands \"str\" and \"isnumeric()\"\n",
    "\n",
    "circuits[\"alt\"].str.isnumeric()"
   ]
  },
  {
   "attachments": {},
   "cell_type": "markdown",
   "metadata": {},
   "source": [
    "<font size = \"5\">\n",
    "\n",
    "Extract list of non-numeric values"
   ]
  },
  {
   "cell_type": "code",
   "execution_count": 10,
   "metadata": {},
   "outputs": [
    {
     "name": "stdout",
     "output_type": "stream",
     "text": [
      "['\\\\N' '-7']\n"
     ]
    }
   ],
   "source": [
    "# We can reference subattributes of columns in \".query()\"\n",
    "# The pd.unique() function extracts unique values from a list\n",
    "\n",
    "subset      = circuits.query(\"alt.str.isnumeric() == False\")\n",
    "list_unique = pd.unique(subset[\"alt\"])\n",
    "print(list_unique)\n"
   ]
  },
  {
   "attachments": {},
   "cell_type": "markdown",
   "metadata": {},
   "source": [
    "<font size = \"5\">\n",
    "\n",
    "Replace certain values"
   ]
  },
  {
   "cell_type": "code",
   "execution_count": 11,
   "metadata": {},
   "outputs": [],
   "source": [
    "# \"list_old\" encodes values we want to change\n",
    "# \"list_new\" encodes the values that will \"replace\" the old\n",
    "list_old = ['\\\\N','-7']\n",
    "list_new = [np.nan,-7]\n",
    "\n",
    "# This command replaces the values of the \"alt\" column\n",
    "circuits[\"alt\"] = circuits[\"alt\"].replace(list_old, list_new)\n",
    "\n",
    "# Note: The option \"inplace = True\" permanently modifies the column\n",
    "# circuits[\"alt\"].replace(list_old, list_new, inplace = True)\n"
   ]
  },
  {
   "attachments": {},
   "cell_type": "markdown",
   "metadata": {},
   "source": [
    "<font size = \"5\">\n",
    "\n",
    "Store a \"cleaned\" dataset"
   ]
  },
  {
   "cell_type": "code",
   "execution_count": 12,
   "metadata": {},
   "outputs": [],
   "source": [
    "# After the cleaning process is done, you may want to store the dataset again\n",
    "# It's recommended to do this in a separate file from the original\n",
    "# That way you can always go back to the original if you made a coding error\n",
    "\n",
    "circuits.to_csv(\"data_clean/circuits.csv\")\n"
   ]
  },
  {
   "attachments": {},
   "cell_type": "markdown",
   "metadata": {},
   "source": [
    "<font size = \"5\">\n",
    "Try it yourself!\n",
    "\n",
    "- Use \".replace()\" with the \"country\" column\n",
    "- Replace \"UK\" with \"United Kingdom\""
   ]
  },
  {
   "cell_type": "code",
   "execution_count": 13,
   "metadata": {},
   "outputs": [],
   "source": [
    "# Write your own code\n",
    "\n",
    "list_old = ['UK']\n",
    "list_new = [\"United Kingdom\"]\n",
    "\n",
    "# This command replaces the values of the \"alt\" column\n",
    "circuits[\"country\"] = circuits[\"country\"].replace(list_old, list_new)\n",
    "\n",
    "circuits[\"country\"] = circuits[\"country\"].replace('UK' \"United Kingdom\")\n",
    "\n"
   ]
  },
  {
   "attachments": {},
   "cell_type": "markdown",
   "metadata": {},
   "source": [
    "<font size = \"5\">\n",
    "Try it yourself!\n",
    "\n",
    "- What is the column type of \"lat\" or \"long\"?\n",
    "- Does it have any string variables?"
   ]
  },
  {
   "cell_type": "code",
   "execution_count": 14,
   "metadata": {},
   "outputs": [
    {
     "name": "stdout",
     "output_type": "stream",
     "text": [
      "float64\n"
     ]
    }
   ],
   "source": [
    "# Write your own code\n",
    "\n",
    "print(circuits[\"lng\"].dtypes)\n",
    "\n",
    "\n"
   ]
  },
  {
   "attachments": {},
   "cell_type": "markdown",
   "metadata": {},
   "source": [
    "<font size = \"5\">"
   ]
  },
  {
   "attachments": {},
   "cell_type": "markdown",
   "metadata": {},
   "source": [
    "# <span style=\"color:darkblue\"> II. Recoding Numeric Variables </span>\n",
    "\n"
   ]
  },
  {
   "attachments": {},
   "cell_type": "markdown",
   "metadata": {},
   "source": [
    "<font size = \"5\">\n",
    "\n",
    "<span style=\"color:red\"> Controlled Pitfall </span> Computing a mean for a non-numeric column"
   ]
  },
  {
   "cell_type": "code",
   "execution_count": 15,
   "metadata": {},
   "outputs": [],
   "source": [
    "# Uncomment this command to see the error\n",
    "# The following error occurs because the data type\n",
    "# is not numeric\n",
    "# circuits[\"alt\"].mean()"
   ]
  },
  {
   "attachments": {},
   "cell_type": "markdown",
   "metadata": {},
   "source": [
    "<font size = \"5\">\n",
    "\n",
    "Convert column to numeric"
   ]
  },
  {
   "cell_type": "code",
   "execution_count": 16,
   "metadata": {},
   "outputs": [
    {
     "name": "stdout",
     "output_type": "stream",
     "text": [
      "248.1891891891892\n"
     ]
    }
   ],
   "source": [
    "# pd.to_numeric() converts a column to numeric\n",
    "# Before you use this option, make sure to \"clean\" the variable\n",
    "# as we did before by checking what the non-numeric values are\n",
    "\n",
    "circuits[\"alt_numeric\"] = pd.to_numeric(circuits[\"alt\"])\n",
    "print(circuits[\"alt_numeric\"].mean())"
   ]
  },
  {
   "attachments": {},
   "cell_type": "markdown",
   "metadata": {},
   "source": [
    "<font size = \"5\">\n",
    "\n",
    "Recode values based on an interval <br>\n",
    "\n",
    "$ \\qquad x_{bin} = \\begin{cases} ``A\" &\\text{ if \\quad} x_1 < x \\le x_2 \\\\\n",
    "                                  ``B\" &\\text{ if \\quad} x_2 < x \\le x_3 \\end{cases} $\n",
    "\n"
   ]
  },
  {
   "cell_type": "code",
   "execution_count": 17,
   "metadata": {},
   "outputs": [],
   "source": [
    "bins_x = [0,2500, 5000]\n",
    "labels_x = [\"Between 0 and 2500\",\n",
    "            \"Between 2500 and 5000\"]\n",
    "\n",
    "circuits[\"bins_alt\"] = pd.cut(circuits[\"alt_numeric\"],\n",
    "                              bins = bins_x,\n",
    "                              right = True,\n",
    "                              labels = labels_x)\n",
    "\n",
    "# Note: if we set bins_x = [float(\"-inf\"),2500, float(\"inf\")]\n",
    "#       then intervals are \"Less than or equal to 2500\" and \"Above 2500\"\n",
    "#       float(\"inf\") and float(\"-inf\") represent infinity and negative infinity\n",
    "#       The \"right\" command indicates that the right interval is\n",
    "#       \"less than or equal to\""
   ]
  },
  {
   "attachments": {},
   "cell_type": "markdown",
   "metadata": {},
   "source": [
    "<font size = \"5\">\n",
    "Try it yourself!\n",
    "\n",
    "- Create a new variable \"hemisphere\"\n",
    "- Encode lattitude in (-90 and 0] as \"south\"\n",
    "- Encode lattitude in (0 and 90] as \"north\""
   ]
  },
  {
   "cell_type": "code",
   "execution_count": 18,
   "metadata": {},
   "outputs": [
    {
     "ename": "KeyError",
     "evalue": "'lat_numeric'",
     "output_type": "error",
     "traceback": [
      "\u001b[0;31m---------------------------------------------------------------------------\u001b[0m",
      "\u001b[0;31mKeyError\u001b[0m                                  Traceback (most recent call last)",
      "File \u001b[0;32m/Library/Frameworks/Python.framework/Versions/3.11/lib/python3.11/site-packages/pandas/core/indexes/base.py:3803\u001b[0m, in \u001b[0;36mIndex.get_loc\u001b[0;34m(self, key, method, tolerance)\u001b[0m\n\u001b[1;32m   3802\u001b[0m \u001b[39mtry\u001b[39;00m:\n\u001b[0;32m-> 3803\u001b[0m     \u001b[39mreturn\u001b[39;00m \u001b[39mself\u001b[39;49m\u001b[39m.\u001b[39;49m_engine\u001b[39m.\u001b[39;49mget_loc(casted_key)\n\u001b[1;32m   3804\u001b[0m \u001b[39mexcept\u001b[39;00m \u001b[39mKeyError\u001b[39;00m \u001b[39mas\u001b[39;00m err:\n",
      "File \u001b[0;32m/Library/Frameworks/Python.framework/Versions/3.11/lib/python3.11/site-packages/pandas/_libs/index.pyx:138\u001b[0m, in \u001b[0;36mpandas._libs.index.IndexEngine.get_loc\u001b[0;34m()\u001b[0m\n",
      "File \u001b[0;32m/Library/Frameworks/Python.framework/Versions/3.11/lib/python3.11/site-packages/pandas/_libs/index.pyx:165\u001b[0m, in \u001b[0;36mpandas._libs.index.IndexEngine.get_loc\u001b[0;34m()\u001b[0m\n",
      "File \u001b[0;32mpandas/_libs/hashtable_class_helper.pxi:5745\u001b[0m, in \u001b[0;36mpandas._libs.hashtable.PyObjectHashTable.get_item\u001b[0;34m()\u001b[0m\n",
      "File \u001b[0;32mpandas/_libs/hashtable_class_helper.pxi:5753\u001b[0m, in \u001b[0;36mpandas._libs.hashtable.PyObjectHashTable.get_item\u001b[0;34m()\u001b[0m\n",
      "\u001b[0;31mKeyError\u001b[0m: 'lat_numeric'",
      "\nThe above exception was the direct cause of the following exception:\n",
      "\u001b[0;31mKeyError\u001b[0m                                  Traceback (most recent call last)",
      "Cell \u001b[0;32mIn[18], line 7\u001b[0m\n\u001b[1;32m      3\u001b[0m bins_x \u001b[39m=\u001b[39m [\u001b[39m-\u001b[39m\u001b[39m90\u001b[39m, \u001b[39m0\u001b[39m, \u001b[39m90\u001b[39m]\n\u001b[1;32m      4\u001b[0m labels_x \u001b[39m=\u001b[39m [\u001b[39m\"\u001b[39m\u001b[39msouth\u001b[39m\u001b[39m\"\u001b[39m,\n\u001b[1;32m      5\u001b[0m             \u001b[39m\"\u001b[39m\u001b[39mnorth\u001b[39m\u001b[39m\"\u001b[39m]\n\u001b[0;32m----> 7\u001b[0m circuits[\u001b[39m\"\u001b[39m\u001b[39mhemisphere\u001b[39m\u001b[39m\"\u001b[39m] \u001b[39m=\u001b[39m pd\u001b[39m.\u001b[39mcut(circuits[\u001b[39m\"\u001b[39;49m\u001b[39mlat_numeric\u001b[39;49m\u001b[39m\"\u001b[39;49m],\n\u001b[1;32m      8\u001b[0m                               bins \u001b[39m=\u001b[39m bins_x,\n\u001b[1;32m      9\u001b[0m                               right \u001b[39m=\u001b[39m \u001b[39mTrue\u001b[39;00m,\n\u001b[1;32m     10\u001b[0m                               labels \u001b[39m=\u001b[39m labels_x)\n",
      "File \u001b[0;32m/Library/Frameworks/Python.framework/Versions/3.11/lib/python3.11/site-packages/pandas/core/frame.py:3805\u001b[0m, in \u001b[0;36mDataFrame.__getitem__\u001b[0;34m(self, key)\u001b[0m\n\u001b[1;32m   3803\u001b[0m \u001b[39mif\u001b[39;00m \u001b[39mself\u001b[39m\u001b[39m.\u001b[39mcolumns\u001b[39m.\u001b[39mnlevels \u001b[39m>\u001b[39m \u001b[39m1\u001b[39m:\n\u001b[1;32m   3804\u001b[0m     \u001b[39mreturn\u001b[39;00m \u001b[39mself\u001b[39m\u001b[39m.\u001b[39m_getitem_multilevel(key)\n\u001b[0;32m-> 3805\u001b[0m indexer \u001b[39m=\u001b[39m \u001b[39mself\u001b[39;49m\u001b[39m.\u001b[39;49mcolumns\u001b[39m.\u001b[39;49mget_loc(key)\n\u001b[1;32m   3806\u001b[0m \u001b[39mif\u001b[39;00m is_integer(indexer):\n\u001b[1;32m   3807\u001b[0m     indexer \u001b[39m=\u001b[39m [indexer]\n",
      "File \u001b[0;32m/Library/Frameworks/Python.framework/Versions/3.11/lib/python3.11/site-packages/pandas/core/indexes/base.py:3805\u001b[0m, in \u001b[0;36mIndex.get_loc\u001b[0;34m(self, key, method, tolerance)\u001b[0m\n\u001b[1;32m   3803\u001b[0m     \u001b[39mreturn\u001b[39;00m \u001b[39mself\u001b[39m\u001b[39m.\u001b[39m_engine\u001b[39m.\u001b[39mget_loc(casted_key)\n\u001b[1;32m   3804\u001b[0m \u001b[39mexcept\u001b[39;00m \u001b[39mKeyError\u001b[39;00m \u001b[39mas\u001b[39;00m err:\n\u001b[0;32m-> 3805\u001b[0m     \u001b[39mraise\u001b[39;00m \u001b[39mKeyError\u001b[39;00m(key) \u001b[39mfrom\u001b[39;00m \u001b[39merr\u001b[39;00m\n\u001b[1;32m   3806\u001b[0m \u001b[39mexcept\u001b[39;00m \u001b[39mTypeError\u001b[39;00m:\n\u001b[1;32m   3807\u001b[0m     \u001b[39m# If we have a listlike key, _check_indexing_error will raise\u001b[39;00m\n\u001b[1;32m   3808\u001b[0m     \u001b[39m#  InvalidIndexError. Otherwise we fall through and re-raise\u001b[39;00m\n\u001b[1;32m   3809\u001b[0m     \u001b[39m#  the TypeError.\u001b[39;00m\n\u001b[1;32m   3810\u001b[0m     \u001b[39mself\u001b[39m\u001b[39m.\u001b[39m_check_indexing_error(key)\n",
      "\u001b[0;31mKeyError\u001b[0m: 'lat_numeric'"
     ]
    }
   ],
   "source": [
    "\n",
    "# Write your own code\n",
    "\n",
    "bins_x = [-90, 0, 90]\n",
    "labels_x = [\"south\",\n",
    "            \"north\"]\n",
    "\n",
    "circuits[\"hemisphere\"] = pd.cut(circuits[\"lat_numeric\"],\n",
    "                              bins = bins_x,\n",
    "                              right = True,\n",
    "                              labels = labels_x)\n",
    "\n",
    "\n",
    "\n"
   ]
  }
 ],
 "metadata": {
  "kernelspec": {
   "display_name": "Python 3",
   "language": "python",
   "name": "python3"
  },
  "language_info": {
   "codemirror_mode": {
    "name": "ipython",
    "version": 3
   },
   "file_extension": ".py",
   "mimetype": "text/x-python",
   "name": "python",
   "nbconvert_exporter": "python",
   "pygments_lexer": "ipython3",
   "version": "3.11.1"
  },
  "orig_nbformat": 4,
  "vscode": {
   "interpreter": {
    "hash": "aee8b7b246df8f9039afb4144a1f6fd8d2ca17a180786b69acc140d282b71a49"
   }
  }
 },
 "nbformat": 4,
 "nbformat_minor": 2
}
