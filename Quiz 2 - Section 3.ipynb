{
 "cells": [
  {
   "attachments": {},
   "cell_type": "markdown",
   "metadata": {},
   "source": [
    "# <span style=\"color:darkblue\"> QTM 151 - Quiz 2 </span>"
   ]
  },
  {
   "attachments": {},
   "cell_type": "markdown",
   "metadata": {},
   "source": [
    "## Try to submit as an HTML file"
   ]
  },
  {
   "attachments": {},
   "cell_type": "markdown",
   "metadata": {},
   "source": [
    "<font size=\"5\"> \n",
    "\n",
    "Print your name below"
   ]
  },
  {
   "cell_type": "code",
   "execution_count": 1,
   "metadata": {},
   "outputs": [
    {
     "name": "stdout",
     "output_type": "stream",
     "text": [
      "Parker Shimp\n"
     ]
    }
   ],
   "source": [
    "# Write your answer here\n",
    "\n",
    "print(\"Parker Shimp\")\n"
   ]
  },
  {
   "attachments": {},
   "cell_type": "markdown",
   "metadata": {},
   "source": [
    "<font size = \"5\" >\n",
    "This quiz is open book \n",
    "\n",
    "- You can use the lecture notes\n",
    "- You will get partial credit for attempting the questions\n",
    "- To get full credit, the code should run as intended\n",
    "- You should <span style=\"color:red\"> NOT </span> communicate with other students\n",
    "\n",
    "Print the following message: <br>\n",
    "\n",
    "\"I will abide by Emory's code of conduct\"\n"
   ]
  },
  {
   "cell_type": "code",
   "execution_count": 2,
   "metadata": {},
   "outputs": [
    {
     "name": "stdout",
     "output_type": "stream",
     "text": [
      "I will abide by Emory's code of conduct\n"
     ]
    }
   ],
   "source": [
    "# Write your answer here:\n",
    "\n",
    "print(\"I will abide by Emory's code of conduct\")\n"
   ]
  },
  {
   "attachments": {},
   "cell_type": "markdown",
   "metadata": {},
   "source": [
    "<font size = \"5\">\n",
    "\n",
    "Import the libraries \"numpy\", \"matplotlib.pyplot\", and \"pandas\""
   ]
  },
  {
   "cell_type": "code",
   "execution_count": 3,
   "metadata": {},
   "outputs": [],
   "source": [
    "# Write your answer here\n",
    "import numpy as np\n",
    "import matplotlib.pyplot as plt\n",
    "import pandas as pd\n",
    "\n"
   ]
  },
  {
   "attachments": {},
   "cell_type": "markdown",
   "metadata": {},
   "source": [
    "<font size = \"5\">\n",
    "\n",
    "Import the dataset \"data_quiz/fifa23_players_basic.csv\"\n",
    "\n",
    "- It's a dataset on professional soccer players\n",
    "- Rows correspond to players (18,539)\n",
    "- Columns contain attributes of players (32)\n",
    "- Try to view the dataset before starting"
   ]
  },
  {
   "cell_type": "code",
   "execution_count": 4,
   "metadata": {},
   "outputs": [],
   "source": [
    "# Write your own code\n",
    "\n",
    "fifa=pd.read_csv(\"fifa23_players_basic.csv\")\n",
    "\n"
   ]
  },
  {
   "attachments": {},
   "cell_type": "markdown",
   "metadata": {},
   "source": [
    "<font size = \"5\">\n",
    "\n",
    "(a) Create a function and apply it to a column <br>\n",
    "\n",
    "<font size = \"3\">\n",
    "\n",
    "Step 1:\n",
    "- Define a function with a parameter \"age_player\"\n",
    "- If \"age_player < 20\", status = \"Less than 20\"\n",
    "- If \"age_player >= 20\", status = \"20 or older\"\n",
    "- The function returns \"status\"\n",
    "\n",
    "Step 2:\n",
    "- Extract the column \"Age\" in the dataset <br>\n",
    "(be carefeful to write the \"A\" capitalized)\n",
    "- Create a new variable called \"age_bracket\" <br>\n",
    "to assign each player to the correct age bracket\n",
    "\n",
    "HINT: Use the \".apply()\" function"
   ]
  },
  {
   "cell_type": "code",
   "execution_count": 5,
   "metadata": {},
   "outputs": [],
   "source": [
    "# Write your own code\n",
    "\n",
    "def check_age(age_player):\n",
    "    if age_player<20:\n",
    "        status=\"Less than 20\"\n",
    "    if age_player>=20:\n",
    "        status=\"20 or older\"\n",
    "    return status\n",
    "\n",
    "fifa[\"age_bracket\"]=fifa[\"Age\"].apply(check_age)\n",
    "\n",
    "\n",
    "\n"
   ]
  },
  {
   "attachments": {},
   "cell_type": "markdown",
   "metadata": {},
   "source": [
    "<font size = \"5\">\n",
    "\n",
    "(b) Use queries + global variables\n",
    "\n",
    "<font size = \"3\">\n",
    "\n",
    "- Compute the mean of the column \"Value(in Euro)\" <br>\n",
    "and store it as a variable\n",
    "- Subset the players whose value is above the mean value <br>\n",
    "  using \".query()\"\n",
    "\n",
    "\n",
    "HINT: Remember that there is a special syntax for <br>\n",
    "when the column names have spaces (see Lecture 10) <br>\n",
    "Reference the column as ``` `Value(in Euro)`    ``` inside .query()"
   ]
  },
  {
   "cell_type": "code",
   "execution_count": 6,
   "metadata": {},
   "outputs": [],
   "source": [
    "# Write your own code\n",
    "mean_val = fifa[\"Value(in Euro)\"].mean()\n",
    "fifa_abv = fifa.query(\" `Value(in Euro)` > @mean_val \")\n",
    "\n",
    "\n",
    "\n"
   ]
  },
  {
   "attachments": {},
   "cell_type": "markdown",
   "metadata": {},
   "source": [
    "<font size = \"5\">\n",
    "\n",
    "(c) Use sorting + \".iloc[]\"\n",
    "\n",
    "<font size = \"3\">\n",
    "\n",
    "- Use \".sort_values()\" to order the \"Age\" column <br>\n",
    "from youngest to oldest\n",
    "- Get a subset with the 5 youngest players"
   ]
  },
  {
   "cell_type": "code",
   "execution_count": 7,
   "metadata": {},
   "outputs": [
    {
     "data": {
      "text/html": [
       "<div>\n",
       "<style scoped>\n",
       "    .dataframe tbody tr th:only-of-type {\n",
       "        vertical-align: middle;\n",
       "    }\n",
       "\n",
       "    .dataframe tbody tr th {\n",
       "        vertical-align: top;\n",
       "    }\n",
       "\n",
       "    .dataframe thead th {\n",
       "        text-align: right;\n",
       "    }\n",
       "</style>\n",
       "<table border=\"1\" class=\"dataframe\">\n",
       "  <thead>\n",
       "    <tr style=\"text-align: right;\">\n",
       "      <th></th>\n",
       "      <th>Known As</th>\n",
       "      <th>Full Name</th>\n",
       "      <th>Overall</th>\n",
       "      <th>Potential</th>\n",
       "      <th>Value(in Euro)</th>\n",
       "      <th>Positions Played</th>\n",
       "      <th>Best Position</th>\n",
       "      <th>Nationality</th>\n",
       "      <th>Image Link</th>\n",
       "      <th>Age</th>\n",
       "      <th>...</th>\n",
       "      <th>Weak Foot Rating</th>\n",
       "      <th>Skill Moves</th>\n",
       "      <th>International Reputation</th>\n",
       "      <th>National Team Name</th>\n",
       "      <th>National Team Image Link</th>\n",
       "      <th>National Team Position</th>\n",
       "      <th>National Team Jersey Number</th>\n",
       "      <th>Attacking Work Rate</th>\n",
       "      <th>Defensive Work Rate</th>\n",
       "      <th>age_bracket</th>\n",
       "    </tr>\n",
       "  </thead>\n",
       "  <tbody>\n",
       "    <tr>\n",
       "      <th>17956</th>\n",
       "      <td>A. Dithmer</td>\n",
       "      <td>Andreas Dithmer</td>\n",
       "      <td>53</td>\n",
       "      <td>76</td>\n",
       "      <td>275000</td>\n",
       "      <td>GK</td>\n",
       "      <td>GK</td>\n",
       "      <td>Denmark</td>\n",
       "      <td>https://cdn.sofifa.net/players/269/573/23_60.png</td>\n",
       "      <td>16</td>\n",
       "      <td>...</td>\n",
       "      <td>2</td>\n",
       "      <td>1</td>\n",
       "      <td>1</td>\n",
       "      <td>-</td>\n",
       "      <td>https://cdn.sofifa.net/flags/dk.png</td>\n",
       "      <td>-</td>\n",
       "      <td>-</td>\n",
       "      <td>Medium</td>\n",
       "      <td>Medium</td>\n",
       "      <td>Less than 20</td>\n",
       "    </tr>\n",
       "    <tr>\n",
       "      <th>18014</th>\n",
       "      <td>J. Ardila</td>\n",
       "      <td>José Ardila</td>\n",
       "      <td>53</td>\n",
       "      <td>73</td>\n",
       "      <td>250000</td>\n",
       "      <td>CM</td>\n",
       "      <td>CAM</td>\n",
       "      <td>Venezuela</td>\n",
       "      <td>https://cdn.sofifa.net/players/268/892/23_60.png</td>\n",
       "      <td>16</td>\n",
       "      <td>...</td>\n",
       "      <td>3</td>\n",
       "      <td>2</td>\n",
       "      <td>1</td>\n",
       "      <td>-</td>\n",
       "      <td>https://cdn.sofifa.net/flags/ve.png</td>\n",
       "      <td>-</td>\n",
       "      <td>-</td>\n",
       "      <td>Medium</td>\n",
       "      <td>Medium</td>\n",
       "      <td>Less than 20</td>\n",
       "    </tr>\n",
       "    <tr>\n",
       "      <th>16084</th>\n",
       "      <td>S. Ngoma</td>\n",
       "      <td>Serge Ngoma</td>\n",
       "      <td>58</td>\n",
       "      <td>82</td>\n",
       "      <td>650000</td>\n",
       "      <td>RW</td>\n",
       "      <td>RM</td>\n",
       "      <td>United States</td>\n",
       "      <td>https://cdn.sofifa.net/players/267/796/23_60.png</td>\n",
       "      <td>16</td>\n",
       "      <td>...</td>\n",
       "      <td>3</td>\n",
       "      <td>2</td>\n",
       "      <td>1</td>\n",
       "      <td>-</td>\n",
       "      <td>https://cdn.sofifa.net/flags/us.png</td>\n",
       "      <td>-</td>\n",
       "      <td>-</td>\n",
       "      <td>High</td>\n",
       "      <td>Medium</td>\n",
       "      <td>Less than 20</td>\n",
       "    </tr>\n",
       "    <tr>\n",
       "      <th>11481</th>\n",
       "      <td>O. Vargas</td>\n",
       "      <td>Obed Vargas</td>\n",
       "      <td>64</td>\n",
       "      <td>81</td>\n",
       "      <td>1500000</td>\n",
       "      <td>CM,CDM,RM</td>\n",
       "      <td>CAM</td>\n",
       "      <td>United States</td>\n",
       "      <td>https://cdn.sofifa.net/players/263/701/23_60.png</td>\n",
       "      <td>16</td>\n",
       "      <td>...</td>\n",
       "      <td>3</td>\n",
       "      <td>3</td>\n",
       "      <td>1</td>\n",
       "      <td>-</td>\n",
       "      <td>https://cdn.sofifa.net/flags/us.png</td>\n",
       "      <td>-</td>\n",
       "      <td>-</td>\n",
       "      <td>High</td>\n",
       "      <td>Medium</td>\n",
       "      <td>Less than 20</td>\n",
       "    </tr>\n",
       "    <tr>\n",
       "      <th>17591</th>\n",
       "      <td>A. Madaliński</td>\n",
       "      <td>Alan Madaliński</td>\n",
       "      <td>54</td>\n",
       "      <td>68</td>\n",
       "      <td>210000</td>\n",
       "      <td>GK</td>\n",
       "      <td>GK</td>\n",
       "      <td>Poland</td>\n",
       "      <td>https://cdn.sofifa.net/players/270/590/23_60.png</td>\n",
       "      <td>16</td>\n",
       "      <td>...</td>\n",
       "      <td>3</td>\n",
       "      <td>1</td>\n",
       "      <td>1</td>\n",
       "      <td>-</td>\n",
       "      <td>https://cdn.sofifa.net/flags/pl.png</td>\n",
       "      <td>-</td>\n",
       "      <td>-</td>\n",
       "      <td>Medium</td>\n",
       "      <td>Medium</td>\n",
       "      <td>Less than 20</td>\n",
       "    </tr>\n",
       "  </tbody>\n",
       "</table>\n",
       "<p>5 rows × 33 columns</p>\n",
       "</div>"
      ],
      "text/plain": [
       "            Known As        Full Name  Overall  Potential  Value(in Euro)  \\\n",
       "17956     A. Dithmer  Andreas Dithmer       53         76          275000   \n",
       "18014      J. Ardila      José Ardila       53         73          250000   \n",
       "16084       S. Ngoma      Serge Ngoma       58         82          650000   \n",
       "11481      O. Vargas      Obed Vargas       64         81         1500000   \n",
       "17591  A. Madaliński  Alan Madaliński       54         68          210000   \n",
       "\n",
       "      Positions Played Best Position    Nationality  \\\n",
       "17956               GK            GK        Denmark   \n",
       "18014               CM           CAM      Venezuela   \n",
       "16084               RW            RM  United States   \n",
       "11481        CM,CDM,RM           CAM  United States   \n",
       "17591               GK            GK         Poland   \n",
       "\n",
       "                                             Image Link  Age  ...  \\\n",
       "17956  https://cdn.sofifa.net/players/269/573/23_60.png   16  ...   \n",
       "18014  https://cdn.sofifa.net/players/268/892/23_60.png   16  ...   \n",
       "16084  https://cdn.sofifa.net/players/267/796/23_60.png   16  ...   \n",
       "11481  https://cdn.sofifa.net/players/263/701/23_60.png   16  ...   \n",
       "17591  https://cdn.sofifa.net/players/270/590/23_60.png   16  ...   \n",
       "\n",
       "       Weak Foot Rating  Skill Moves  International Reputation  \\\n",
       "17956                 2            1                         1   \n",
       "18014                 3            2                         1   \n",
       "16084                 3            2                         1   \n",
       "11481                 3            3                         1   \n",
       "17591                 3            1                         1   \n",
       "\n",
       "       National Team Name             National Team Image Link  \\\n",
       "17956                   -  https://cdn.sofifa.net/flags/dk.png   \n",
       "18014                   -  https://cdn.sofifa.net/flags/ve.png   \n",
       "16084                   -  https://cdn.sofifa.net/flags/us.png   \n",
       "11481                   -  https://cdn.sofifa.net/flags/us.png   \n",
       "17591                   -  https://cdn.sofifa.net/flags/pl.png   \n",
       "\n",
       "       National Team Position  National Team Jersey Number  \\\n",
       "17956                       -                            -   \n",
       "18014                       -                            -   \n",
       "16084                       -                            -   \n",
       "11481                       -                            -   \n",
       "17591                       -                            -   \n",
       "\n",
       "      Attacking Work Rate Defensive Work Rate   age_bracket  \n",
       "17956              Medium              Medium  Less than 20  \n",
       "18014              Medium              Medium  Less than 20  \n",
       "16084                High              Medium  Less than 20  \n",
       "11481                High              Medium  Less than 20  \n",
       "17591              Medium              Medium  Less than 20  \n",
       "\n",
       "[5 rows x 33 columns]"
      ]
     },
     "metadata": {},
     "output_type": "display_data"
    }
   ],
   "source": [
    "# Write your own code\n",
    "\n",
    "fifa_ascendingage = fifa.sort_values(by = \"Age\",ascending = True)\n",
    "display(fifa_ascendingage.iloc[0:5,:])\n",
    "\n",
    "\n"
   ]
  },
  {
   "attachments": {},
   "cell_type": "markdown",
   "metadata": {},
   "source": [
    "<font size = \"5\">\n",
    "\n",
    "(d) Create a function with four inputs $f(y,x,b0,b1)$\n",
    "\n",
    "<font size = \"3\">\n",
    "\n",
    "$\\qquad e2 = (y - b_0 - b_1 * x)^2$\n",
    "\n",
    "- The function should return the mean of e2\n",
    "- This is the mean-square error (mse)\n",
    "- Call the function \"fn_mse\"\n",
    "- Let $y$ be the column \"Potential\"\n",
    "- Let $x$ be the column \"Age\" \n",
    "- Does <br>\n",
    "$\\qquad (b_0 = 80, b_1 = -1)$ or <br>\n",
    "$\\qquad (b_0 = 80, b_1 =-0.4)$ or <br>\n",
    "$\\qquad (b_0 = 80, b_1 = 1)$ <br>\n",
    "produce the lowest value of mse?\n"
   ]
  },
  {
   "cell_type": "code",
   "execution_count": null,
   "metadata": {},
   "outputs": [],
   "source": []
  },
  {
   "cell_type": "code",
   "execution_count": 8,
   "metadata": {},
   "outputs": [
    {
     "data": {
      "text/plain": [
       "309.49360806947516"
      ]
     },
     "metadata": {},
     "output_type": "display_data"
    },
    {
     "data": {
      "text/plain": [
       "360.79764604347594"
      ]
     },
     "metadata": {},
     "output_type": "display_data"
    },
    {
     "data": {
      "text/plain": [
       "656.2925925526367"
      ]
     },
     "execution_count": 8,
     "metadata": {},
     "output_type": "execute_result"
    }
   ],
   "source": [
    "# Write your own code\n",
    "# e2_list=[]\n",
    "\n",
    "def fn_mse(y,x,b0,b1):\n",
    "    e2 = (y-b0-(b1*x))**2\n",
    "    # e2_list.append(e2)\n",
    "    avg=np.mean(e2_list)\n",
    "    return avg\n",
    "\n",
    "display(fn_mse(fifa[\"Potential\"],fifa[\"Age\"],80,-1))\n",
    "display(fn_mse(fifa[\"Potential\"],fifa[\"Age\"],80,0.4))\n",
    "fn_mse(fifa[\"Potential\"],fifa[\"Age\"],80,1)\n",
    "\n"
   ]
  },
  {
   "attachments": {},
   "cell_type": "markdown",
   "metadata": {},
   "source": [
    "b1=-1 produces the lowest value"
   ]
  },
  {
   "attachments": {},
   "cell_type": "markdown",
   "metadata": {},
   "source": [
    "<font size = \"5\">\n",
    "\n",
    "(e) Split a dataset into subsets\n",
    "\n",
    "<font size = \"3\">\n",
    "\n",
    "- Create ``` list_status = [0,1]```\n",
    "- Create ``` list_prob = [0.5, 0.5]```\n",
    "- Create a new variable $n$ with the number of rows of the dataset\n",
    "- Use \n",
    "```python\n",
    "    np.random.choice(list_status,\n",
    "                     size = n,\n",
    "                     p = list_prob)\n",
    "```\n",
    "$\\qquad$ to create a new column called \"status\" <br>\n",
    "$\\qquad$ which randomly assigns each row to \"0\" or \"1\" <br>\n",
    "$\\qquad$ with equal probability\n",
    "- Use .query() to subset all observations with status == 0.<br>\n",
    "store it in a new dataset called \"data0\"\n",
    "- Use .query() to subset all observations with status == 1.<br>\n",
    "store it in a new dataset called \"data1\"\n",
    "\n"
   ]
  },
  {
   "cell_type": "code",
   "execution_count": 9,
   "metadata": {},
   "outputs": [],
   "source": [
    "# Write your own code\n",
    "list_status = [0,1]\n",
    "list_prob = [0.5, 0.5]\n",
    "\n",
    "n = len(fifa)\n",
    "fifa[\"status\"] = np.random.choice(list_status,\n",
    "                     size = n,\n",
    "                     p = list_prob)\n",
    "\n",
    "data0 = fifa.query(\"status == 0\")\n",
    "data1 = fifa.query(\"status == 1\")\n",
    "\n",
    "\n",
    "\n"
   ]
  },
  {
   "attachments": {},
   "cell_type": "markdown",
   "metadata": {},
   "source": [
    "<font size = \"5\">\n",
    "\n",
    "(f) Create two overlapping histogram plots\n",
    "\n",
    "<font size = \"3\">\n",
    "\n",
    "- This function requires the two datasets you created in (e)\n",
    "- Display the distribution of \"Age\" for \"data0\" and \"data1\"\n",
    "- Use the \"alpha\" option to make the graphs semitransparent\n",
    "- You will need to add a legend, label the axes, and the title\n",
    "\n",
    "Note: The goal of this question is to illustrate that random <br>\n",
    "assignment produces very similar distributions between two groups"
   ]
  },
  {
   "cell_type": "code",
   "execution_count": 10,
   "metadata": {},
   "outputs": [
    {
     "data": {
      "text/plain": [
       "Text(0.5, 0, 'Age')"
      ]
     },
     "execution_count": 10,
     "metadata": {},
     "output_type": "execute_result"
    },
    {
     "data": {
      "image/png": "[encoded data removed]",
      "text/plain": [
       "<Figure size 640x480 with 1 Axes>"
      ]
     },
     "metadata": {},
     "output_type": "display_data"
    }
   ],
   "source": [
    "# Write your own code\n",
    "datasets = [data0, data1]\n",
    "labels_list = ['data0', 'data1']\n",
    "for dataset in datasets:\n",
    "    plt.hist(dataset[\"Age\"],alpha = 0.5)\n",
    "\n",
    "plt.legend(labels = labels_list)\n",
    "plt.xlabel(\"Age\")\n",
    "\n",
    "\n",
    "\n"
   ]
  }
 ],
 "metadata": {
  "kernelspec": {
   "display_name": "Python 3",
   "language": "python",
   "name": "python3"
  },
  "language_info": {
   "codemirror_mode": {
    "name": "ipython",
    "version": 3
   },
   "file_extension": ".py",
   "mimetype": "text/x-python",
   "name": "python",
   "nbconvert_exporter": "python",
   "pygments_lexer": "ipython3",
   "version": "3.8.0"
  },
  "orig_nbformat": 4,
  "vscode": {
   "interpreter": {
    "hash": "aee8b7b246df8f9039afb4144a1f6fd8d2ca17a180786b69acc140d282b71a49"
   }
  }
 },
 "nbformat": 4,
 "nbformat_minor": 2
}
