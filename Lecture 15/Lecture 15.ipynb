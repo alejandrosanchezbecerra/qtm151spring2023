{
 "cells": [
  {
   "attachments": {},
   "cell_type": "markdown",
   "metadata": {},
   "source": [
    "# <span style=\"color:darkblue\"> Lecture 15 - Merging Data </span>\n",
    "\n",
    "<font size = \"5\">\n",
    "\n",
    "In the previous class we covered ...\n",
    "\n",
    "- Aggregate Statistics\n",
    "- Merge aggregate stats\n",
    "\n",
    "In this class we will cover ...\n",
    "\n",
    "- More database merging!\n",
    "- Emphasize importance of cleaning before merging\n",
    "- Database concatenation"
   ]
  },
  {
   "attachments": {},
   "cell_type": "markdown",
   "metadata": {},
   "source": [
    "# <span style=\"color:darkblue\"> I. Import Libraries and Data </span>\n"
   ]
  },
  {
   "attachments": {},
   "cell_type": "markdown",
   "metadata": {},
   "source": [
    "<font size = \"5\">\n",
    "Key libraries"
   ]
  },
  {
   "cell_type": "code",
   "execution_count": 1,
   "metadata": {},
   "outputs": [],
   "source": [
    "import numpy as np\n",
    "import pandas as pd\n",
    "import matplotlib.pyplot as plt"
   ]
  },
  {
   "attachments": {},
   "cell_type": "markdown",
   "metadata": {},
   "source": [
    "<font size = \"5\">\n",
    "\n",
    "Read dataset on car racing circuits\n",
    "\n",
    "- https://en.wikipedia.org/wiki/Formula_One <br>\n",
    "- [See Data Source](https://www.kaggle.com/datasets/rohanrao/formula-1-world-championship-1950-2020)"
   ]
  },
  {
   "cell_type": "code",
   "execution_count": 2,
   "metadata": {},
   "outputs": [],
   "source": [
    "results_raw  = pd.read_csv(\"data_raw/results.csv\")\n",
    "races_raw    = pd.read_csv(\"data_raw/races.csv\")\n",
    "circuits_raw = pd.read_csv(\"data_raw/circuits.csv\")"
   ]
  },
  {
   "attachments": {},
   "cell_type": "markdown",
   "metadata": {},
   "source": [
    "<font size = \"5\">\n",
    "\n",
    "Multi-file datasets can be visualized with an ...\n",
    "\n",
    "- \"Entity Relationship Diagram\" (ERD)\n",
    "- How the identifiers in each table are connected\n",
    "- Complement to the \"codebook\"\n",
    "\n",
    "<img src=\"figures/erd_f1_simple.png\" alt=\"drawing\" width=\"600\"/>\n"
   ]
  },
  {
   "attachments": {},
   "cell_type": "markdown",
   "metadata": {},
   "source": [
    "<font size = \"5\">\n",
    "\n",
    "Start by opening datasets!\n",
    "\n",
    "- Check columns with similar names"
   ]
  },
  {
   "cell_type": "code",
   "execution_count": 3,
   "metadata": {},
   "outputs": [],
   "source": [
    "# We extract all the unique values in races_raw[\"name\"] and circuits_raw[\"name\"]\n",
    "# We use \"sort_values()\" to make it easier to compare the variables\n",
    "# The \"codebook/f1_codebook.pdf\" file shows that the content is indeed different\n",
    "\n",
    "unique_data_races    = pd.unique(races_raw[\"name\"].sort_values())\n",
    "unique_data_circuits = pd.unique(circuits_raw[\"name\"].sort_values())\n"
   ]
  },
  {
   "attachments": {},
   "cell_type": "markdown",
   "metadata": {},
   "source": [
    "# <span style=\"color:darkblue\"> II. Dictionaries + Renaming </span>"
   ]
  },
  {
   "attachments": {},
   "cell_type": "markdown",
   "metadata": {},
   "source": [
    "<font size = \"5\">\n",
    "\n",
    "A dictionary is another way to store data. \n",
    "\n",
    "- Defined with curly brackets \"{...}\"\n",
    "- Different fields are separated by a comma\n",
    "- Assign values to a field with a colon \":\""
   ]
  },
  {
   "attachments": {},
   "cell_type": "markdown",
   "metadata": {},
   "source": [
    "<font size = \"5\">\n",
    "\n",
    "Dictionaries + Pandas"
   ]
  },
  {
   "cell_type": "code",
   "execution_count": 4,
   "metadata": {},
   "outputs": [
    {
     "data": {
      "text/html": [
       "<div>\n",
       "<style scoped>\n",
       "    .dataframe tbody tr th:only-of-type {\n",
       "        vertical-align: middle;\n",
       "    }\n",
       "\n",
       "    .dataframe tbody tr th {\n",
       "        vertical-align: top;\n",
       "    }\n",
       "\n",
       "    .dataframe thead th {\n",
       "        text-align: right;\n",
       "    }\n",
       "</style>\n",
       "<table border=\"1\" class=\"dataframe\">\n",
       "  <thead>\n",
       "    <tr style=\"text-align: right;\">\n",
       "      <th></th>\n",
       "      <th>car_model</th>\n",
       "      <th>year</th>\n",
       "    </tr>\n",
       "  </thead>\n",
       "  <tbody>\n",
       "    <tr>\n",
       "      <th>0</th>\n",
       "      <td>Ferrari</td>\n",
       "      <td>2018</td>\n",
       "    </tr>\n",
       "    <tr>\n",
       "      <th>1</th>\n",
       "      <td>Tesla</td>\n",
       "      <td>2023</td>\n",
       "    </tr>\n",
       "    <tr>\n",
       "      <th>2</th>\n",
       "      <td>BMW</td>\n",
       "      <td>2022</td>\n",
       "    </tr>\n",
       "  </tbody>\n",
       "</table>\n",
       "</div>"
      ],
      "text/plain": [
       "  car_model  year\n",
       "0   Ferrari  2018\n",
       "1     Tesla  2023\n",
       "2       BMW  2022"
      ]
     },
     "execution_count": 4,
     "metadata": {},
     "output_type": "execute_result"
    }
   ],
   "source": [
    "# This is an example of a pandas data frame created from a dictionary\n",
    "# This example illustrates the basic syntax of a dictionary\n",
    "\n",
    "car_dictionary = {\"car_model\": [\"Ferrari\",\"Tesla\",\"BMW\"],\n",
    "                  \"year\":      [\"2018\",\"2023\",\"2022\"] }\n",
    "\n",
    "pd.DataFrame(car_dictionary)\n"
   ]
  },
  {
   "attachments": {},
   "cell_type": "markdown",
   "metadata": {},
   "source": [
    "<font size = \"5\">\n",
    "\n",
    "Rename columns with dictionaries\n",
    "\n",
    "``` {\"old_name\": \"new_name\"} ```"
   ]
  },
  {
   "cell_type": "code",
   "execution_count": 27,
   "metadata": {},
   "outputs": [],
   "source": [
    "# We first define the dictionary\n",
    "# Change the pipe \".rename(...)\" to rename the columns\n",
    "# Dictionaries can flexibly accommodate single values or list after \":\"\n",
    "\n",
    "dict_rename_circuits = {\"name\": \"circuit_name\"}\n",
    "circuits = circuits_raw.rename(columns = dict_rename_circuits)\n"
   ]
  },
  {
   "attachments": {},
   "cell_type": "markdown",
   "metadata": {},
   "source": [
    "<font size = \"5\">\n",
    "Check that \".rename()\" worked"
   ]
  },
  {
   "cell_type": "code",
   "execution_count": 16,
   "metadata": {},
   "outputs": [
    {
     "name": "stdout",
     "output_type": "stream",
     "text": [
      "Old List:\n",
      "['circuitId' 'circuitRef' 'name' 'location' 'country' 'lat' 'lng' 'alt'\n",
      " 'url']\n",
      "\n",
      "New List:\n",
      "['circuitId' 'circuitRef' 'circuit_name' 'location' 'country' 'lat' 'lng'\n",
      " 'alt' 'url']\n"
     ]
    }
   ],
   "source": [
    "# Extract the column names of the \"raw\" and \"clean\" data\n",
    "\n",
    "print(\"Old List:\")\n",
    "print(circuits_raw.columns.values)\n",
    "print(\"\")\n",
    "print(\"New List:\")\n",
    "print(circuits.columns.values)\n"
   ]
  },
  {
   "attachments": {},
   "cell_type": "markdown",
   "metadata": {},
   "source": [
    "<font size = 5>\n",
    "\n",
    "Try it yourself!\n",
    "\n",
    "- Create a dictionary to rename \"name\" to \"race_name\"\n",
    "- Rename this column in the \"races_raw\" dataset\n",
    "- Store the output in a new dataset called \"races\""
   ]
  },
  {
   "cell_type": "code",
   "execution_count": 7,
   "metadata": {},
   "outputs": [],
   "source": [
    "# Write your own code\n",
    "\n",
    "\n",
    "\n"
   ]
  },
  {
   "attachments": {},
   "cell_type": "markdown",
   "metadata": {},
   "source": [
    "# <span style=\"color:darkblue\"> II. Merging </span>\n"
   ]
  },
  {
   "attachments": {},
   "cell_type": "markdown",
   "metadata": {},
   "source": [
    "<font size = \"5\">\n",
    "\n",
    "Extracting specific columns from dataset"
   ]
  },
  {
   "cell_type": "code",
   "execution_count": 8,
   "metadata": {},
   "outputs": [
    {
     "data": {
      "text/html": [
       "<div>\n",
       "<style scoped>\n",
       "    .dataframe tbody tr th:only-of-type {\n",
       "        vertical-align: middle;\n",
       "    }\n",
       "\n",
       "    .dataframe tbody tr th {\n",
       "        vertical-align: top;\n",
       "    }\n",
       "\n",
       "    .dataframe thead th {\n",
       "        text-align: right;\n",
       "    }\n",
       "</style>\n",
       "<table border=\"1\" class=\"dataframe\">\n",
       "  <thead>\n",
       "    <tr style=\"text-align: right;\">\n",
       "      <th></th>\n",
       "      <th>circuitId</th>\n",
       "      <th>circuit_name</th>\n",
       "    </tr>\n",
       "  </thead>\n",
       "  <tbody>\n",
       "    <tr>\n",
       "      <th>0</th>\n",
       "      <td>1</td>\n",
       "      <td>Albert Park Grand Prix Circuit</td>\n",
       "    </tr>\n",
       "    <tr>\n",
       "      <th>1</th>\n",
       "      <td>2</td>\n",
       "      <td>Sepang International Circuit</td>\n",
       "    </tr>\n",
       "    <tr>\n",
       "      <th>2</th>\n",
       "      <td>3</td>\n",
       "      <td>Bahrain International Circuit</td>\n",
       "    </tr>\n",
       "    <tr>\n",
       "      <th>3</th>\n",
       "      <td>4</td>\n",
       "      <td>Circuit de Barcelona-Catalunya</td>\n",
       "    </tr>\n",
       "    <tr>\n",
       "      <th>4</th>\n",
       "      <td>5</td>\n",
       "      <td>Istanbul Park</td>\n",
       "    </tr>\n",
       "    <tr>\n",
       "      <th>...</th>\n",
       "      <td>...</td>\n",
       "      <td>...</td>\n",
       "    </tr>\n",
       "    <tr>\n",
       "      <th>72</th>\n",
       "      <td>75</td>\n",
       "      <td>Autódromo Internacional do Algarve</td>\n",
       "    </tr>\n",
       "    <tr>\n",
       "      <th>73</th>\n",
       "      <td>76</td>\n",
       "      <td>Autodromo Internazionale del Mugello</td>\n",
       "    </tr>\n",
       "    <tr>\n",
       "      <th>74</th>\n",
       "      <td>77</td>\n",
       "      <td>Jeddah Corniche Circuit</td>\n",
       "    </tr>\n",
       "    <tr>\n",
       "      <th>75</th>\n",
       "      <td>78</td>\n",
       "      <td>Losail International Circuit</td>\n",
       "    </tr>\n",
       "    <tr>\n",
       "      <th>76</th>\n",
       "      <td>79</td>\n",
       "      <td>Miami International Autodrome</td>\n",
       "    </tr>\n",
       "  </tbody>\n",
       "</table>\n",
       "<p>77 rows × 2 columns</p>\n",
       "</div>"
      ],
      "text/plain": [
       "    circuitId                          circuit_name\n",
       "0           1        Albert Park Grand Prix Circuit\n",
       "1           2          Sepang International Circuit\n",
       "2           3         Bahrain International Circuit\n",
       "3           4        Circuit de Barcelona-Catalunya\n",
       "4           5                         Istanbul Park\n",
       "..        ...                                   ...\n",
       "72         75    Autódromo Internacional do Algarve\n",
       "73         76  Autodromo Internazionale del Mugello\n",
       "74         77               Jeddah Corniche Circuit\n",
       "75         78          Losail International Circuit\n",
       "76         79         Miami International Autodrome\n",
       "\n",
       "[77 rows x 2 columns]"
      ]
     },
     "execution_count": 8,
     "metadata": {},
     "output_type": "execute_result"
    }
   ],
   "source": [
    "circuits[[\"circuitId\",\"circuit_name\"]]"
   ]
  },
  {
   "attachments": {},
   "cell_type": "markdown",
   "metadata": {},
   "source": [
    "<font size = \"5\">\n",
    "\n",
    "Merge datasets\n",
    "\n",
    "<img src=\"figures/merge_goal.png\" alt=\"drawing\" width=\"500\"/>\n",
    "\n",
    "\n",
    "```pd.merge(data1,data2,on,how)```\n",
    "\n",
    "- Strive to merge only specific columns of data2\n",
    "- Avoid merging all columns\n",
    "- Keeping it simple gives you more control over the output"
   ]
  },
  {
   "cell_type": "code",
   "execution_count": 9,
   "metadata": {},
   "outputs": [],
   "source": [
    "# The \"pd.merge()\" command combines the information from both datasets\n",
    "# The first argument is the \"primary\" datasets\n",
    "# The second argument is the \"secondary\" dataset (much include the \"on\" column)\n",
    "# The \"on\" is the common variable that is used for merging\n",
    "# how = \"left\" tells Python that the left dataset is the primary one\n",
    "\n",
    "races_merge = pd.merge(races_raw,\n",
    "                       circuits[[\"circuitId\",\"circuit_name\"]],\n",
    "                       on = \"circuitId\",\n",
    "                       how = \"left\")"
   ]
  },
  {
   "cell_type": "code",
   "execution_count": 10,
   "metadata": {},
   "outputs": [],
   "source": [
    "# Another example of merging\n",
    "\n",
    "results_merge = pd.merge(results_raw,\n",
    "                         races_raw[[\"raceId\",\"date\"]],\n",
    "                         on = \"raceId\",\n",
    "                         how = \"left\")"
   ]
  },
  {
   "attachments": {},
   "cell_type": "markdown",
   "metadata": {},
   "source": [
    "<font size = \"5\">\n",
    "<span style=\"color:red\"> Common pitfall: </span> What happens if you don't rename?"
   ]
  },
  {
   "cell_type": "code",
   "execution_count": 12,
   "metadata": {},
   "outputs": [
    {
     "name": "stdout",
     "output_type": "stream",
     "text": [
      "['raceId' 'year' 'round' 'circuitId' 'name_x' 'date' 'time' 'url'\n",
      " 'fp1_date' 'fp1_time' 'fp2_date' 'fp2_time' 'fp3_date' 'fp3_time'\n",
      " 'quali_date' 'quali_time' 'sprint_date' 'sprint_time' 'name_y']\n"
     ]
    }
   ],
   "source": [
    "# The following code merges the raw data\n",
    "# which has the \"name\" column in \"races_raw\" and \"circuits_raw\"\n",
    "\n",
    "races_merge_pitfall = pd.merge(races_raw,\n",
    "                               circuits_raw[[\"circuitId\",\"name\"]],\n",
    "                               on = \"circuitId\",\n",
    "                               how = \"left\")\n",
    "\n",
    "# Python will internally rename the columns \"name_x\" (for the left dataset)\n",
    "# and \"name_y\" (for the right dataset)\n",
    "\n",
    "print(races_merge_pitfall.columns.values)\n"
   ]
  },
  {
   "attachments": {},
   "cell_type": "markdown",
   "metadata": {},
   "source": [
    "<font size = \"5\">\n",
    "\n",
    "Try it yourself!\n",
    "\n",
    "- Rename the columns \"name_x\" and \"name_y\" <br>\n",
    "in the dataset \"races_merge_pitfall\" to <br>\n",
    " \"race_name\" and \"circuit_name\"\n",
    "\n",
    "$\\quad$ HINT: Create a dictionary and use \"pd.rename()\""
   ]
  },
  {
   "cell_type": "code",
   "execution_count": null,
   "metadata": {},
   "outputs": [],
   "source": [
    "# Write your own code\n",
    "\n",
    "\n",
    "\n"
   ]
  },
  {
   "attachments": {},
   "cell_type": "markdown",
   "metadata": {},
   "source": [
    "<font size = \"5\">\n",
    "\n",
    "Try it yourself!\n",
    "\n",
    "- Merge the column \"alt\", \"long\", and \"lat\" into the races data <br>\n",
    "using \"pd.merge()"
   ]
  },
  {
   "cell_type": "code",
   "execution_count": null,
   "metadata": {},
   "outputs": [],
   "source": [
    "# Write your own code\n",
    "\n",
    "\n",
    "\n"
   ]
  },
  {
   "attachments": {},
   "cell_type": "markdown",
   "metadata": {},
   "source": [
    "# <span style=\"color:darkblue\"> III. Concat </span>\n"
   ]
  },
  {
   "attachments": {},
   "cell_type": "markdown",
   "metadata": {},
   "source": [
    "<font size = \"5\">\n",
    "\n",
    "Use \".query()\" to split data into different parts"
   ]
  },
  {
   "cell_type": "code",
   "execution_count": 30,
   "metadata": {},
   "outputs": [],
   "source": [
    "circuits_spain = circuits.query('country == \"Spain\"')\n",
    "circuits_usa   = circuits.query('country == \"United States\" | country == \"USA\"')\n",
    "circuits_malaysia = circuits.query('country == \"Malaysia\"')"
   ]
  },
  {
   "attachments": {},
   "cell_type": "markdown",
   "metadata": {},
   "source": [
    "<font size = \"5\">\n",
    "\n",
    "Cocatenate data back together\n",
    "\n",
    "- Useful if there are datasets split by geography...\n",
    "- year, or other subgroup"
   ]
  },
  {
   "cell_type": "code",
   "execution_count": 31,
   "metadata": {},
   "outputs": [],
   "source": [
    "# Works best if columns are identical\n",
    "# There are also other advanced options if they are not \n",
    "# https://pandas.pydata.org/docs/reference/api/pandas.concat.html\n",
    "\n",
    "circuits_concat = pd.concat([circuits_spain,circuits_usa])\n"
   ]
  },
  {
   "attachments": {},
   "cell_type": "markdown",
   "metadata": {},
   "source": [
    "<font size = \"5\">\n",
    "\n",
    "Try it yourself!\n",
    "\n",
    "- Concatenate the USA and Malaysia datasets\n",
    "\n"
   ]
  },
  {
   "cell_type": "code",
   "execution_count": null,
   "metadata": {},
   "outputs": [],
   "source": [
    "# Write your own code\n",
    "\n",
    "\n",
    "\n",
    "\n"
   ]
  }
 ],
 "metadata": {
  "kernelspec": {
   "display_name": "base",
   "language": "python",
   "name": "python3"
  },
  "language_info": {
   "codemirror_mode": {
    "name": "ipython",
    "version": 3
   },
   "file_extension": ".py",
   "mimetype": "text/x-python",
   "name": "python",
   "nbconvert_exporter": "python",
   "pygments_lexer": "ipython3",
   "version": "3.9.13"
  },
  "orig_nbformat": 4,
  "vscode": {
   "interpreter": {
    "hash": "45fc1f684f6f416f40889115beff3ddf69879b64cf4bfee48cb72a61e9d15d1a"
   }
  }
 },
 "nbformat": 4,
 "nbformat_minor": 2
}
