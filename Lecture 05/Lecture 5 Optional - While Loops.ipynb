{
 "cells": [
  {
   "attachments": {},
   "cell_type": "markdown",
   "metadata": {},
   "source": [
    "# <span style=\"color:darkblue\"> Lecture 5 Optional Appendix: While Loops </span>"
   ]
  },
  {
   "attachments": {},
   "cell_type": "markdown",
   "metadata": {},
   "source": [
    "<font size=\"5\"> \n",
    "\n",
    "This is an optional note on how to use While Loops\n",
    "\n",
    "- Read this after the Lecture 5 file"
   ]
  },
  {
   "attachments": {},
   "cell_type": "markdown",
   "metadata": {},
   "source": [
    "## <span style=\"color:darkblue\"> I. Import Libraries </span>"
   ]
  },
  {
   "cell_type": "code",
   "execution_count": 2,
   "metadata": {},
   "outputs": [],
   "source": [
    "# the \"numPy\" library is used for mathematical operations\n",
    "# the \"matplotlib\" library is for generating graphs\n",
    "# the \"pandas\" library is for manipualting datasets\n",
    "\n",
    "import matplotlib.pyplot as plt\n"
   ]
  },
  {
   "attachments": {},
   "cell_type": "markdown",
   "metadata": {},
   "source": [
    "## <span style=\"color:darkblue\"> II. The while loop </span>\n",
    "\n",
    "<font size=\"5\"> \n",
    "\n",
    "- Used to iterate over a block of code as long as the test expression (condition) is true. \n",
    "\n",
    "- Use when we don't know the number of times to iterate beforehand."
   ]
  },
  {
   "attachments": {},
   "cell_type": "markdown",
   "metadata": {},
   "source": [
    "<font size=\"5\"> \n",
    "\n",
    "\n",
    "<table><tr>\n",
    "<td> <img src=\"figures/while.png\" alt=\"drawing\" width=\"200\"/>  </td>\n",
    "<td>  Continue to run code <br>\n",
    "while a condition holds\n",
    " <br>\n",
    "\n",
    " ``` python\n",
    "    while test_expression:\n",
    "        Body\n",
    "```\n",
    "\n",
    " </td>\n",
    "</tr></table>\n"
   ]
  },
  {
   "attachments": {},
   "cell_type": "markdown",
   "metadata": {},
   "source": [
    "<font size = \"5\">\n",
    "\n",
    "Example: More accuracy!\n",
    "\n",
    "$f(x) = \\frac{1}{x}$\n",
    "\n",
    "- If $x$ is high enough, then $f(x)$ becomes very small\n",
    "- We can continue to run values until $f(x) < e$\n",
    "- Here the value $e$ is a threshold\n",
    "\n",
    "Similar logic for any algorithm that needs more iterations for accuracy"
   ]
  },
  {
   "cell_type": "code",
   "execution_count": 12,
   "metadata": {},
   "outputs": [
    {
     "name": "stdout",
     "output_type": "stream",
     "text": [
      "[]\n"
     ]
    },
    {
     "data": {
      "text/plain": [
       "Text(0, 0.5, 'y')"
      ]
     },
     "execution_count": 12,
     "metadata": {},
     "output_type": "execute_result"
    },
    {
     "data": {
      "image/png": "[encoded data removed]",
      "text/plain": [
       "<Figure size 640x480 with 1 Axes>"
      ]
     },
     "metadata": {},
     "output_type": "display_data"
    }
   ],
   "source": [
    "# Specify a threshold level\n",
    "\n",
    "e = 0.01\n",
    "\n",
    "x_list = []\n",
    "y_list = []\n",
    "\n",
    "print(x_list)\n",
    "\n",
    "x = 1\n",
    "while 1/x > e:\n",
    "    x_list.append(x)\n",
    "    y_list.append(1/x)\n",
    "    x = x + 1\n",
    "\n",
    "plt.scatter(x= x_list, y = y_list)\n",
    "plt.title(\"Graph of f(x) = 1/x\")\n",
    "plt.xlabel(\"x\")\n",
    "plt.ylabel(\"y\")\n"
   ]
  },
  {
   "attachments": {},
   "cell_type": "markdown",
   "metadata": {},
   "source": [
    "<font size = \"5\">\n",
    "\n",
    "Example: Finding candidates with a cutoff"
   ]
  },
  {
   "cell_type": "code",
   "execution_count": 18,
   "metadata": {},
   "outputs": [
    {
     "name": "stdout",
     "output_type": "stream",
     "text": [
      "0\n",
      "1\n",
      "2\n",
      "3\n",
      "[0, 3]\n"
     ]
    }
   ],
   "source": [
    "# This code loops over the list of players\n",
    "# and stops once 2 tennis players are found\n",
    "\n",
    "\n",
    "list_sports = [\"tennis\",\"golf\",\"golf\",\"tennis\",\"golf\",\"golf\"]\n",
    "\n",
    "candidate_list = []\n",
    "num_candidates = 0\n",
    "\n",
    "index = 0\n",
    "while num_candidates < 2:\n",
    "    print(index)\n",
    "    if(list_sports[index] == \"tennis\"):\n",
    "        candidate_list.append(index)\n",
    "        num_candidates = num_candidates + 1\n",
    "\n",
    "    index = index + 1\n",
    "\n",
    "print(candidate_list)\n"
   ]
  },
  {
   "attachments": {},
   "cell_type": "markdown",
   "metadata": {},
   "source": [
    "<font size = \"5\">\n",
    "\n",
    "Try it yourself\n",
    "\n",
    "- Solve the same problem with a \"for\" loop\n",
    "- Use the option \"break\" to conclude iterations early"
   ]
  },
  {
   "cell_type": "code",
   "execution_count": 19,
   "metadata": {},
   "outputs": [],
   "source": [
    "# Write down your code here\n",
    "\n",
    "\n",
    "\n",
    "\n",
    "\n",
    "\n"
   ]
  }
 ],
 "metadata": {
  "kernelspec": {
   "display_name": "base",
   "language": "python",
   "name": "python3"
  },
  "language_info": {
   "codemirror_mode": {
    "name": "ipython",
    "version": 3
   },
   "file_extension": ".py",
   "mimetype": "text/x-python",
   "name": "python",
   "nbconvert_exporter": "python",
   "pygments_lexer": "ipython3",
   "version": "3.9.13"
  },
  "orig_nbformat": 4,
  "vscode": {
   "interpreter": {
    "hash": "45fc1f684f6f416f40889115beff3ddf69879b64cf4bfee48cb72a61e9d15d1a"
   }
  }
 },
 "nbformat": 4,
 "nbformat_minor": 2
}
