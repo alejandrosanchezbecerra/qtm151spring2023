{
 "cells": [
  {
   "attachments": {},
   "cell_type": "markdown",
   "metadata": {},
   "source": [
    "# <span style=\"color:darkblue\"> Lecture 11: Application 1 - Linear Regression </span>\n",
    "\n",
    "<font size = \"5\">\n",
    "\n",
    "We will fit statistical models to data\n",
    "\n",
    "- I will give an intro with minimal stats background\n",
    "- See the optional lecture file for advanced users\n",
    "\n",
    "The primary goal is to practice previous commands"
   ]
  },
  {
   "attachments": {},
   "cell_type": "markdown",
   "metadata": {},
   "source": [
    "# <span style=\"color:darkblue\"> I. Import Libraries </span>\n"
   ]
  },
  {
   "cell_type": "code",
   "execution_count": 1,
   "metadata": {},
   "outputs": [],
   "source": [
    "# The \"pandas\" library is used for processing datasets\n",
    "# The \"numpy\" is for numeric observations and random numbers\n",
    "# The \"matplotlib.pyplot\" library is for creating graphs\n",
    "\n",
    "import pandas as pd\n",
    "import numpy as np\n",
    "import matplotlib.pyplot as plt\n"
   ]
  },
  {
   "attachments": {},
   "cell_type": "markdown",
   "metadata": {},
   "source": [
    "<font size = \"5\">\n",
    "\n",
    "Install the \"statsmodels\" library\n",
    "- Run \"pip3 install statsmodels\" in the terminal\n",
    "- Automatically included in Anaconda"
   ]
  },
  {
   "cell_type": "code",
   "execution_count": 2,
   "metadata": {},
   "outputs": [],
   "source": [
    "# We will \"alias\" two sublibraries in \"statsmodels\"\n",
    "# \"statsmodels.formula.api\" contains functions to estimate models\n",
    "# \"statsmodels.api\" contains general-use statistical options\n",
    "\n",
    "import statsmodels.api as sm\n",
    "import statsmodels.formula.api as smf\n"
   ]
  },
  {
   "attachments": {},
   "cell_type": "markdown",
   "metadata": {},
   "source": [
    "# <span style=\"color:darkblue\"> II. Generate simulated Data </span>\n",
    "\n",
    "<font size = \"5\">\n",
    "\n",
    "Create an empty dataset"
   ]
  },
  {
   "cell_type": "code",
   "execution_count": 3,
   "metadata": {},
   "outputs": [],
   "source": [
    "dataset = pd.DataFrame([])"
   ]
  },
  {
   "attachments": {},
   "cell_type": "markdown",
   "metadata": {},
   "source": [
    "<font size = \"5\">\n",
    "\n",
    "Create two random variables of size ($n = 50$)"
   ]
  },
  {
   "cell_type": "code",
   "execution_count": 4,
   "metadata": {},
   "outputs": [],
   "source": [
    "n = 50\n",
    "dataset[\"x\"] = np.random.normal(loc = 0,scale = 1, size = n)\n",
    "dataset[\"e\"] = np.random.normal(loc = 0,scale = 1, size = n)\n"
   ]
  },
  {
   "attachments": {},
   "cell_type": "markdown",
   "metadata": {},
   "source": [
    "<font size = \"5\">\n",
    "\n",
    "Create data from the linear model\n",
    "\n",
    "$ y = b_0 + b_1 x + e, \\qquad b_0 = 1, b_1 = 2.$"
   ]
  },
  {
   "cell_type": "code",
   "execution_count": 5,
   "metadata": {},
   "outputs": [],
   "source": [
    "# The number b0 is known as the \"intercept\"\n",
    "# The number b1 is known as the \"slope\"\n",
    "\n",
    "b0 = 1\n",
    "b1 = 2\n",
    "\n",
    "# We can compute formulas directly over dataset columns\n",
    "dataset[\"y\"] = b0 + b1 * dataset[\"x\"] + dataset[\"e\"]"
   ]
  },
  {
   "attachments": {},
   "cell_type": "markdown",
   "metadata": {},
   "source": [
    "<font size = \"5\">\n",
    "\n",
    "Compute the theoretically best fit line\n",
    "\n",
    "$ p = b_0 + b_1 x$"
   ]
  },
  {
   "cell_type": "code",
   "execution_count": 6,
   "metadata": {},
   "outputs": [],
   "source": [
    "dataset[\"p\"] = b0 + b1*dataset[\"x\"]"
   ]
  },
  {
   "attachments": {},
   "cell_type": "markdown",
   "metadata": {},
   "source": [
    "<font size = \"5\">\n",
    "\n",
    "Plot the data"
   ]
  },
  {
   "cell_type": "code",
   "execution_count": 7,
   "metadata": {},
   "outputs": [
    {
     "data": {
      "image/png": "[encoded data removed]",
      "text/plain": [
       "<Figure size 640x480 with 1 Axes>"
      ]
     },
     "metadata": {},
     "output_type": "display_data"
    }
   ],
   "source": [
    "plt.scatter(x = dataset[\"x\"], y = dataset[\"y\"])\n",
    "plt.scatter(x = dataset[\"x\"], y = dataset[\"p\"])\n",
    "\n",
    "plt.xlabel(\"X Variable\")\n",
    "plt.ylabel(\"Y Variable\")\n",
    "plt.legend(labels = [\"Data points\", \"Best fit line\"])\n",
    "plt.show()\n"
   ]
  },
  {
   "attachments": {},
   "cell_type": "markdown",
   "metadata": {},
   "source": [
    "<font size = \"5\" >\n",
    "\n",
    "Try it yourself\n",
    "\n",
    "- Create a new dataset called $\\quad$```subset_above2``` \n",
    "- This subsets records with $y \\ge 2$ using $\\quad$```.query()```\n",
    "- Count the original rows $\\quad$ ```len(dataset)```\n",
    "- Count the subsetted rows $\\quad$ ```len(subset_above2)```\n",
    "- Compute the proportion of subsetted observations\n"
   ]
  },
  {
   "cell_type": "code",
   "execution_count": 8,
   "metadata": {},
   "outputs": [
    {
     "name": "stdout",
     "output_type": "stream",
     "text": [
      "0.2\n"
     ]
    }
   ],
   "source": [
    "# Write your own code here\n",
    "\n",
    "subset_above2 = dataset.query(\"y >= 2\")\n",
    "print( len(subset_above2)/len(dataset))\n"
   ]
  },
  {
   "attachments": {},
   "cell_type": "markdown",
   "metadata": {},
   "source": [
    "<font size = \"5\">\n",
    "\n",
    "Try it yourself!\n",
    "\n",
    "- Store the sample mean of $y$ as $\\quad$ ```ybar```\n",
    "- Compute the standard deviation of $y$ $\\quad$ ```stdv_sample```\n",
    "- Use ```.query()``` to subset observations that satisfy\n",
    "\n",
    "$ \\qquad abs\\left(y - ybar \\right) \\le stdv\\_sample $\n",
    "\n",
    "$\\quad$ HINT: Use ```.mean()```,$\\text{ }$ ```.std()``` <br>\n",
    "$\\quad$ HINT: Use the globals  $\\ $ ```@xbar```,$\\text{ }$ ```@stdv_sample```"
   ]
  },
  {
   "cell_type": "code",
   "execution_count": 17,
   "metadata": {},
   "outputs": [],
   "source": [
    "# Note: abs(...) is the absolute value function\n",
    "# Write your own code \n",
    "\n",
    "ybar        = dataset[\"y\"].mean()\n",
    "stdv_sample = dataset[\"y\"].std()\n",
    "subset_data = dataset.query(\"abs(y - @ybar) <= @stdv_sample\")\n",
    "\n"
   ]
  },
  {
   "attachments": {},
   "cell_type": "markdown",
   "metadata": {},
   "source": [
    "# <span style=\"color:darkblue\"> II. Estimate the best fit line</span>\n"
   ]
  },
  {
   "attachments": {},
   "cell_type": "markdown",
   "metadata": {},
   "source": [
    "<font size = \"5\">\n",
    "\n",
    "We have data on $(y,x)$ but we don't know $(b_0,b_1)$"
   ]
  },
  {
   "attachments": {},
   "cell_type": "markdown",
   "metadata": {},
   "source": [
    "<font size = \"5\">\n",
    "\n",
    "Let's fit an OLS model\n",
    "\n",
    "- It's a statistical approach to get $(b_0,b_1)$\n",
    "- No need to know how it works but why we want it"
   ]
  },
  {
   "cell_type": "code",
   "execution_count": 10,
   "metadata": {},
   "outputs": [],
   "source": [
    "#------------------------------------------------------------------------------#\n",
    "# We use the subfunction \"ols()\" in the library \"smf\"\n",
    "#---- (i) The first argument is a string called \"formula\" with the format \n",
    "#-------- \"outcome ~ indepdent_vars\"\n",
    "#----(ii) the second argument is the dataset\n",
    "# The second line fits the model with standard errors \"cov\". In this case we \n",
    "# use \"robust\" standard errors (HC1)\n",
    "#-------------------------------------------------------------------------------#\n",
    "\n",
    "model   = smf.ols(formula = 'y ~  x',data = dataset)\n",
    "results = model.fit(cov_type = \"HC1\")\n",
    "\n",
    "# Can also run as one line\n",
    "# results = smf.ols(formula = 'y ~ x',data = dataset).fit(cov = \"HC1\")\n"
   ]
  },
  {
   "attachments": {},
   "cell_type": "markdown",
   "metadata": {},
   "source": [
    "<font size = \"5\">\n",
    "\n",
    "Compute the estimated best fit line"
   ]
  },
  {
   "cell_type": "code",
   "execution_count": 11,
   "metadata": {},
   "outputs": [
    {
     "name": "stdout",
     "output_type": "stream",
     "text": [
      "Intercept    0.922552\n",
      "x            1.978537\n",
      "dtype: float64\n"
     ]
    }
   ],
   "source": [
    "# We will use \".params\" to get the attribute \"parameters from the results\"\n",
    "\n",
    "b_list = results.params\n",
    "print(b_list)\n",
    "\n",
    "# We can then compute the \"estimated\" best fit lines\n",
    "# by extracting the intercept and slop from \"b_list\"\n",
    "\n",
    "dataset[\"p_estimated\"] = b_list[0] + b_list[1]  * dataset[\"x\"]\n",
    "\n",
    "# Note: The estimators for \"b0\" and \"b1\" are close to \n",
    "# the values we used to generate the data\n"
   ]
  },
  {
   "attachments": {},
   "cell_type": "markdown",
   "metadata": {},
   "source": [
    "<font size = \"5\">\n",
    "\n",
    "Plot the best fit line"
   ]
  },
  {
   "cell_type": "code",
   "execution_count": 12,
   "metadata": {},
   "outputs": [
    {
     "data": {
      "image/png": "[encoded data removed]",
      "text/plain": [
       "<Figure size 640x480 with 1 Axes>"
      ]
     },
     "metadata": {},
     "output_type": "display_data"
    }
   ],
   "source": [
    "# Use scatter twice, with different \"y\" inputs\n",
    "# THe \"legend\" command creates a box on with the color labels\n",
    "\n",
    "plt.scatter(x = dataset[\"x\"],y = dataset[\"y\"])\n",
    "plt.scatter(x = dataset[\"x\"],y = dataset[\"p_estimated\"])\n",
    "\n",
    "plt.legend(labels = [\"Data points\",\"Estimated Predicted Model\"])\n",
    "plt.show()\n"
   ]
  },
  {
   "attachments": {},
   "cell_type": "markdown",
   "metadata": {},
   "source": [
    "<font size = \"5\">\n",
    "\n",
    "Try it yourself!\n",
    "- How good is the estimated fit?\n",
    "- Create two overlapping scatterplots\n",
    "- $(p \\text{ }$ vs $\\text{ } x)$ and $(p_{estimated} \\text{ }$ vs $\\text{ } x)$\n",
    "- Create a legend to label each plot"
   ]
  },
  {
   "cell_type": "code",
   "execution_count": 18,
   "metadata": {},
   "outputs": [
    {
     "data": {
      "image/png": "[encoded data removed]",
      "text/plain": [
       "<Figure size 640x480 with 1 Axes>"
      ]
     },
     "metadata": {},
     "output_type": "display_data"
    }
   ],
   "source": [
    "# Write your own code\n",
    "\n",
    "plt.scatter(x = dataset[\"x\"],y = dataset[\"p\"])\n",
    "plt.scatter(x = dataset[\"x\"],y = dataset[\"p_estimated\"])\n",
    "\n",
    "plt.legend(labels = [\"Theoeretical Best Prediction\",\"Estimated Predicted Model\"])\n",
    "plt.show()\n",
    "\n",
    "\n"
   ]
  },
  {
   "attachments": {},
   "cell_type": "markdown",
   "metadata": {},
   "source": [
    "<font size = \"5\">\n",
    "\n",
    "Try it youself\n",
    "\n",
    "- Compute a column with the formula\n",
    "\n",
    "$\\quad$ ``` sample_error = y - p_estimated```\n",
    "\n",
    "- Create a lambda function <br>\n",
    "\n",
    "$\\quad$ ``` fn_positive_error = lambda error: error >= 0  ```\n",
    "\n",
    "- Compute a column for whether the error is positive <br>\n",
    "using ``` .apply()```\n",
    "\n"
   ]
  },
  {
   "cell_type": "code",
   "execution_count": 21,
   "metadata": {},
   "outputs": [],
   "source": [
    "# Write your own code\n",
    "\n",
    "dataset[\"sample_error\"] = dataset[\"y\"] - dataset[\"p_estimated\"]\n",
    "fn_positive_error = lambda error: error >= 0\n",
    "dataset[\"error_positive\"] = dataset[\"sample_error\"].apply(fn_positive_error)\n",
    "\n"
   ]
  },
  {
   "attachments": {},
   "cell_type": "markdown",
   "metadata": {},
   "source": [
    "<font size = \"5\">\n",
    "\n",
    "Try it yourself\n",
    "\n",
    "- Compute a new column <br>\n",
    "\n",
    "```error_sqr = sample_error ** 2```\n",
    "\n",
    "- Calculate the mean of ```error_sqr```"
   ]
  },
  {
   "cell_type": "code",
   "execution_count": 22,
   "metadata": {},
   "outputs": [
    {
     "data": {
      "text/plain": [
       "0.9380479587760511"
      ]
     },
     "execution_count": 22,
     "metadata": {},
     "output_type": "execute_result"
    }
   ],
   "source": [
    "# Write your own code\n",
    "\n",
    "dataset[\"error_sqr\"] = dataset[\"sample_error\"]**2\n",
    "dataset[\"error_sqr\"].mean()\n",
    "\n",
    "\n",
    "\n"
   ]
  }
 ],
 "metadata": {
  "kernelspec": {
   "display_name": "base",
   "language": "python",
   "name": "python3"
  },
  "language_info": {
   "codemirror_mode": {
    "name": "ipython",
    "version": 3
   },
   "file_extension": ".py",
   "mimetype": "text/x-python",
   "name": "python",
   "nbconvert_exporter": "python",
   "pygments_lexer": "ipython3",
   "version": "3.9.13"
  },
  "orig_nbformat": 4,
  "vscode": {
   "interpreter": {
    "hash": "45fc1f684f6f416f40889115beff3ddf69879b64cf4bfee48cb72a61e9d15d1a"
   }
  }
 },
 "nbformat": 4,
 "nbformat_minor": 2
}
