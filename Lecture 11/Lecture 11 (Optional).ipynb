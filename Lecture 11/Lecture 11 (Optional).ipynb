{
 "cells": [
  {
   "attachments": {},
   "cell_type": "markdown",
   "metadata": {},
   "source": [
    "# <span style=\"color:darkblue\"> Lecture 11 (Optional): Regression Output </span>\n",
    "\n",
    "<font size = \"5\">\n",
    "\n",
    "This is an optional lecture file\n",
    "\n",
    "- This is only recommended if you've taken statistics courses \n",
    "- This lecture will not be formally evaluated\n",
    "- Keep this in material in mind for future courses\n"
   ]
  },
  {
   "attachments": {},
   "cell_type": "markdown",
   "metadata": {},
   "source": [
    "# <span style=\"color:darkblue\"> I. Import Libraries </span>\n"
   ]
  },
  {
   "cell_type": "code",
   "execution_count": 23,
   "metadata": {},
   "outputs": [],
   "source": [
    "# The \"pandas\" library is used for processing datasets\n",
    "# The \"numpy\" is for numeric observations and random numbers\n",
    "# The \"matplotlib.pyplot\" library is for creating graphs\n",
    "\n",
    "import pandas as pd\n",
    "import numpy as np\n",
    "import matplotlib.pyplot as plt"
   ]
  },
  {
   "attachments": {},
   "cell_type": "markdown",
   "metadata": {},
   "source": [
    "<font size = \"5\">\n",
    "\n",
    "Install the \"statsmodels\" library\n",
    "- Run \"pip3 install statsmodels\" in the terminal\n",
    "- Automatically included in Anaconda"
   ]
  },
  {
   "cell_type": "code",
   "execution_count": 24,
   "metadata": {},
   "outputs": [],
   "source": [
    "# We will \"alias\" two sublibraries in \"statsmodels\"\n",
    "# \"statsmodels.formula.api\" contains functions to estimate models\n",
    "# \"statsmodels.api\" contains general-use statistical options\n",
    "\n",
    "import statsmodels.api as sm\n",
    "import statsmodels.formula.api as smf\n",
    "from statsmodels.iolib.summary2 import summary_col\n"
   ]
  },
  {
   "attachments": {},
   "cell_type": "markdown",
   "metadata": {},
   "source": [
    "# <span style=\"color:darkblue\"> II. Generate Simulated Data </span>\n",
    "\n",
    "<font size = \"5\">\n",
    "\n",
    "Create an empty dataset"
   ]
  },
  {
   "cell_type": "code",
   "execution_count": 25,
   "metadata": {},
   "outputs": [],
   "source": [
    "dataset = pd.DataFrame([])"
   ]
  },
  {
   "attachments": {},
   "cell_type": "markdown",
   "metadata": {},
   "source": [
    "<font size = \"5\">\n",
    "\n",
    "Create three random variables of size ($n = 100$)"
   ]
  },
  {
   "cell_type": "code",
   "execution_count": 26,
   "metadata": {},
   "outputs": [],
   "source": [
    "n = 100\n",
    "dataset[\"x\"] = np.random.normal(loc = 0,scale = 1, size = n)\n",
    "dataset[\"z\"] = np.random.normal(loc = 0,scale = 1, size = n)\n",
    "dataset[\"e\"] = np.random.normal(loc = 0,scale = 1, size = n)\n"
   ]
  },
  {
   "attachments": {},
   "cell_type": "markdown",
   "metadata": {},
   "source": [
    "<font size = \"5\">\n",
    "\n",
    "Create discre random variable ($n = 100$)"
   ]
  },
  {
   "cell_type": "code",
   "execution_count": 27,
   "metadata": {},
   "outputs": [],
   "source": [
    "dataset[\"d\"] = np.random.choice(a = [1,2,3],\n",
    "                                size = n,\n",
    "                                p = [0.2,0.2,0.6])"
   ]
  },
  {
   "attachments": {},
   "cell_type": "markdown",
   "metadata": {},
   "source": [
    "<font size = \"5\">\n",
    "\n",
    "Create data from the linear model\n",
    "\n",
    "$ y = 2 + 5 x + e$"
   ]
  },
  {
   "cell_type": "code",
   "execution_count": 28,
   "metadata": {},
   "outputs": [],
   "source": [
    "# We can compute formulas directly over dataset columns\n",
    "dataset[\"y\"] =2 + 5* dataset[\"x\"] + dataset[\"x\"]*dataset[\"e\"]"
   ]
  },
  {
   "attachments": {},
   "cell_type": "markdown",
   "metadata": {},
   "source": [
    "# <span style=\"color:darkblue\"> III. Regression Tables </span>\n"
   ]
  },
  {
   "attachments": {},
   "cell_type": "markdown",
   "metadata": {},
   "source": [
    "<font size = \"5\">\n",
    "\n",
    "Summaries for univariate regression"
   ]
  },
  {
   "cell_type": "code",
   "execution_count": 29,
   "metadata": {},
   "outputs": [
    {
     "name": "stdout",
     "output_type": "stream",
     "text": [
      "\n",
      "========================\n",
      "                   y    \n",
      "------------------------\n",
      "Intercept      2.1320***\n",
      "               (0.0900) \n",
      "x              4.9638***\n",
      "               (0.1534) \n",
      "R-squared      0.9583   \n",
      "R-squared Adj. 0.9579   \n",
      "========================\n",
      "Standard errors in\n",
      "parentheses.\n",
      "* p<.1, ** p<.05,\n",
      "***p<.01\n"
     ]
    }
   ],
   "source": [
    "# Run the model with multiple variables by using \"+\"\n",
    "results_univariate = smf.ols(formula = 'y ~ x',data = dataset).fit(cov_type= \"HC1\")\n",
    "\n",
    "# The \"summary_col\" functions produces nice outputs\n",
    "# We can add notation for significance by setting \"stars\" to True\n",
    "print(summary_col(results_univariate,\n",
    "                  stars = True))\n",
    "\n"
   ]
  },
  {
   "cell_type": "code",
   "execution_count": 30,
   "metadata": {},
   "outputs": [
    {
     "name": "stdout",
     "output_type": "stream",
     "text": [
      "                            OLS Regression Results                            \n",
      "==============================================================================\n",
      "Dep. Variable:                      y   R-squared:                       0.958\n",
      "Model:                            OLS   Adj. R-squared:                  0.958\n",
      "Method:                 Least Squares   F-statistic:                     1047.\n",
      "Date:                Wed, 22 Feb 2023   Prob (F-statistic):           4.17e-54\n",
      "Time:                        13:57:11   Log-Likelihood:                -139.46\n",
      "No. Observations:                 100   AIC:                             282.9\n",
      "Df Residuals:                      98   BIC:                             288.1\n",
      "Df Model:                           1                                         \n",
      "Covariance Type:                  HC1                                         \n",
      "==============================================================================\n",
      "                 coef    std err          z      P>|z|      [0.025      0.975]\n",
      "------------------------------------------------------------------------------\n",
      "Intercept      2.1320      0.090     23.685      0.000       1.956       2.308\n",
      "x              4.9638      0.153     32.352      0.000       4.663       5.265\n",
      "==============================================================================\n",
      "Omnibus:                        8.293   Durbin-Watson:                   2.083\n",
      "Prob(Omnibus):                  0.016   Jarque-Bera (JB):               17.548\n",
      "Skew:                           0.004   Prob(JB):                     0.000155\n",
      "Kurtosis:                       5.052   Cond. No.                         1.12\n",
      "==============================================================================\n",
      "\n",
      "Notes:\n",
      "[1] Standard Errors are heteroscedasticity robust (HC1)\n"
     ]
    }
   ],
   "source": [
    "print(results_univariate.summary())"
   ]
  },
  {
   "attachments": {},
   "cell_type": "markdown",
   "metadata": {},
   "source": [
    "<font size = \"5\">\n",
    "\n",
    "Summaries for multivariate regression"
   ]
  },
  {
   "cell_type": "code",
   "execution_count": 31,
   "metadata": {},
   "outputs": [
    {
     "name": "stdout",
     "output_type": "stream",
     "text": [
      "\n",
      "========================\n",
      "                   y    \n",
      "------------------------\n",
      "Intercept      2.1324***\n",
      "               (0.0899) \n",
      "x              4.9243***\n",
      "               (0.1473) \n",
      "z              -0.1974* \n",
      "               (0.1121) \n",
      "R-squared      0.9598   \n",
      "R-squared Adj. 0.9589   \n",
      "========================\n",
      "Standard errors in\n",
      "parentheses.\n",
      "* p<.1, ** p<.05,\n",
      "***p<.01\n"
     ]
    }
   ],
   "source": [
    "# Run the model with multiple variables by using \"+\"\n",
    "results_multivariate = smf.ols(formula = 'y ~ x + z',\n",
    "                               data = dataset).fit(cov_type = \"HC1\")\n",
    "print(summary_col(results_multivariate,\n",
    "                  stars = True))"
   ]
  },
  {
   "attachments": {},
   "cell_type": "markdown",
   "metadata": {},
   "source": [
    "<font size = \"5\">\n",
    "\n",
    "Summaries for multivariate regression + categories"
   ]
  },
  {
   "cell_type": "code",
   "execution_count": 32,
   "metadata": {},
   "outputs": [
    {
     "name": "stdout",
     "output_type": "stream",
     "text": [
      "\n",
      "========================\n",
      "                   y    \n",
      "------------------------\n",
      "Intercept      1.7378***\n",
      "               (0.2655) \n",
      "C(d)[T.2]      0.4283   \n",
      "               (0.3211) \n",
      "C(d)[T.3]      0.4866   \n",
      "               (0.2978) \n",
      "x              4.9564***\n",
      "               (0.1540) \n",
      "R-squared      0.9597   \n",
      "R-squared Adj. 0.9585   \n",
      "========================\n",
      "Standard errors in\n",
      "parentheses.\n",
      "* p<.1, ** p<.05,\n",
      "***p<.01\n"
     ]
    }
   ],
   "source": [
    "# Run the model with multiple variables by using \"+\"\n",
    "# This creates a set of distinct indicator variables for each category\n",
    "results_multivariate_category = smf.ols(formula = 'y ~ x + C(d)',\n",
    "                                        data = dataset).fit(cov_type = \"HC1\")\n",
    "\n",
    "# The results are reported with a base category, T.1\n",
    "print(summary_col(results_multivariate_category,\n",
    "                  stars = True))"
   ]
  },
  {
   "attachments": {},
   "cell_type": "markdown",
   "metadata": {},
   "source": [
    "<font size = \"5\">\n",
    "\n",
    "Summaries for multivariate regression + interaction"
   ]
  },
  {
   "cell_type": "code",
   "execution_count": 33,
   "metadata": {},
   "outputs": [
    {
     "name": "stdout",
     "output_type": "stream",
     "text": [
      "\n",
      "========================\n",
      "                   y    \n",
      "------------------------\n",
      "Intercept      2.1961***\n",
      "               (0.0800) \n",
      "x              4.9013***\n",
      "               (0.1451) \n",
      "z              -0.1260* \n",
      "               (0.0765) \n",
      "z:x            0.3750** \n",
      "               (0.1581) \n",
      "R-squared      0.9630   \n",
      "R-squared Adj. 0.9619   \n",
      "========================\n",
      "Standard errors in\n",
      "parentheses.\n",
      "* p<.1, ** p<.05,\n",
      "***p<.01\n"
     ]
    }
   ],
   "source": [
    "# Run the model with multiple variables by using \"+\"\n",
    "# This creates a set of distinct indicator variables for each category\n",
    "results_multivariate_interaction = smf.ols(formula = 'y ~ x + z + z:x',\n",
    "                                        data = dataset).fit(cov_type = \"HC1\")\n",
    "\n",
    "# The results are reported with a base category, T.1\n",
    "print(summary_col(results_multivariate_interaction,\n",
    "                  stars = True))"
   ]
  },
  {
   "attachments": {},
   "cell_type": "markdown",
   "metadata": {},
   "source": [
    "# <span style=\"color:darkblue\"> IV. Professional Tables </span>\n"
   ]
  },
  {
   "attachments": {},
   "cell_type": "markdown",
   "metadata": {},
   "source": [
    "<font size = \"5\">\n",
    "\n",
    "Summaries for multiple columns"
   ]
  },
  {
   "cell_type": "code",
   "execution_count": 34,
   "metadata": {},
   "outputs": [
    {
     "name": "stdout",
     "output_type": "stream",
     "text": [
      "\n",
      "======================================================\n",
      "                  y I       y II     y III     y IIII \n",
      "------------------------------------------------------\n",
      "C(d)[T.2]                          0.4283             \n",
      "                                   (0.3211)           \n",
      "C(d)[T.3]                          0.4866             \n",
      "                                   (0.2978)           \n",
      "Intercept      2.1320*** 2.1324*** 1.7378*** 2.1961***\n",
      "               (0.0900)  (0.0899)  (0.2655)  (0.0800) \n",
      "R-squared      0.9583    0.9598    0.9597    0.9630   \n",
      "R-squared Adj. 0.9579    0.9589    0.9585    0.9619   \n",
      "x              4.9638*** 4.9243*** 4.9564*** 4.9013***\n",
      "               (0.1534)  (0.1473)  (0.1540)  (0.1451) \n",
      "z                        -0.1974*            -0.1260* \n",
      "                         (0.1121)            (0.0765) \n",
      "z:x                                          0.3750** \n",
      "                                             (0.1581) \n",
      "======================================================\n",
      "Standard errors in parentheses.\n",
      "* p<.1, ** p<.05, ***p<.01\n"
     ]
    }
   ],
   "source": [
    "list_results = [results_univariate,\n",
    "                results_multivariate,\n",
    "                results_multivariate_category,\n",
    "                results_multivariate_interaction]\n",
    "\n",
    "print(summary_col(list_results,\n",
    "                  stars = True))\n"
   ]
  },
  {
   "attachments": {},
   "cell_type": "markdown",
   "metadata": {},
   "source": [
    "<font size = \"5\">\n",
    "\n",
    "Summaries for multiple columns (sorted + titled + stats)"
   ]
  },
  {
   "cell_type": "code",
   "execution_count": 35,
   "metadata": {},
   "outputs": [
    {
     "name": "stdout",
     "output_type": "stream",
     "text": [
      "\n",
      "==============================================================\n",
      "               Univariate Multivariate Categorical Interaction\n",
      "--------------------------------------------------------------\n",
      "x              4.9638***  4.9243***    4.9564***   4.9013***  \n",
      "               (0.1534)   (0.1473)     (0.1540)    (0.1451)   \n",
      "z                         -0.1974*                 -0.1260*   \n",
      "                          (0.1121)                 (0.0765)   \n",
      "z:x                                                0.3750**   \n",
      "                                                   (0.1581)   \n",
      "C(d)[T.2]                              0.4283                 \n",
      "                                       (0.3211)               \n",
      "C(d)[T.3]                              0.4866                 \n",
      "                                       (0.2978)               \n",
      "Intercept      2.1320***  2.1324***    1.7378***   2.1961***  \n",
      "               (0.0900)   (0.0899)     (0.2655)    (0.0800)   \n",
      "R-squared      0.9583     0.9598       0.9597      0.9630     \n",
      "R-squared Adj. 0.9579     0.9589       0.9585      0.9619     \n",
      "N              100        100          100         100        \n",
      "==============================================================\n",
      "Standard errors in parentheses.\n",
      "* p<.1, ** p<.05, ***p<.01\n"
     ]
    }
   ],
   "source": [
    "# This list inputs the headings of the table\n",
    "list_headings   = [\"Univariate\",\n",
    "                   \"Multivariate\",\n",
    "                   \"Categorical\",\n",
    "                   \"Interaction\"]\n",
    "\n",
    "# This is the list of regressor names (if you want a particular order)\n",
    "list_regressors = [\"x\",\n",
    "                   \"z\",\n",
    "                   \"z:x\",\n",
    "                   \"C(d)[T.2]\",\n",
    "                   \"C(d)[T.3]\"]\n",
    "\n",
    "# This is a function that extracts the sample size\n",
    "# Can use with other summary statistics\n",
    "# \"nobs\" is the number of observations\n",
    "compute_summary = {'N':lambda model: format(int(model.nobs))}\n",
    "\n",
    "print(summary_col(list_results,\n",
    "                  stars = True,\n",
    "                  model_names = list_headings,\n",
    "                  info_dict={'N':lambda x: format(int(x.nobs))},\n",
    "                  regressor_order = [\"x\",\"z\",\"z:x\",\"C(d)[T.2]\",\"C(d)[T.3]\"]))"
   ]
  },
  {
   "attachments": {},
   "cell_type": "markdown",
   "metadata": {},
   "source": [
    "<font size = \"5\">\n",
    "\n",
    "Detailed table"
   ]
  },
  {
   "cell_type": "code",
   "execution_count": 36,
   "metadata": {},
   "outputs": [
    {
     "name": "stdout",
     "output_type": "stream",
     "text": [
      "                            OLS Regression Results                            \n",
      "==============================================================================\n",
      "Dep. Variable:                      y   R-squared:                       0.958\n",
      "Model:                            OLS   Adj. R-squared:                  0.958\n",
      "Method:                 Least Squares   F-statistic:                     1047.\n",
      "Date:                Wed, 22 Feb 2023   Prob (F-statistic):           4.17e-54\n",
      "Time:                        13:57:11   Log-Likelihood:                -139.46\n",
      "No. Observations:                 100   AIC:                             282.9\n",
      "Df Residuals:                      98   BIC:                             288.1\n",
      "Df Model:                           1                                         \n",
      "Covariance Type:                  HC1                                         \n",
      "==============================================================================\n",
      "                 coef    std err          z      P>|z|      [0.025      0.975]\n",
      "------------------------------------------------------------------------------\n",
      "Intercept      2.1320      0.090     23.685      0.000       1.956       2.308\n",
      "x              4.9638      0.153     32.352      0.000       4.663       5.265\n",
      "==============================================================================\n",
      "Omnibus:                        8.293   Durbin-Watson:                   2.083\n",
      "Prob(Omnibus):                  0.016   Jarque-Bera (JB):               17.548\n",
      "Skew:                           0.004   Prob(JB):                     0.000155\n",
      "Kurtosis:                       5.052   Cond. No.                         1.12\n",
      "==============================================================================\n",
      "\n",
      "Notes:\n",
      "[1] Standard Errors are heteroscedasticity robust (HC1)\n"
     ]
    }
   ],
   "source": [
    "# Detailed Summary\n",
    "print(results_univariate.summary())"
   ]
  }
 ],
 "metadata": {
  "kernelspec": {
   "display_name": "Python 3",
   "language": "python",
   "name": "python3"
  },
  "language_info": {
   "codemirror_mode": {
    "name": "ipython",
    "version": 3
   },
   "file_extension": ".py",
   "mimetype": "text/x-python",
   "name": "python",
   "nbconvert_exporter": "python",
   "pygments_lexer": "ipython3",
   "version": "3.11.1"
  },
  "orig_nbformat": 4,
  "vscode": {
   "interpreter": {
    "hash": "21ede215e1d7050e85468e313dd1f4ce196ee27894ecac2da549fae8ddf074d3"
   }
  }
 },
 "nbformat": 4,
 "nbformat_minor": 2
}
